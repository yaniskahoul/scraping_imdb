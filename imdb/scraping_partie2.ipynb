{
 "cells": [
  {
   "cell_type": "code",
   "execution_count": 32,
   "metadata": {},
   "outputs": [
    {
     "name": "stdout",
     "output_type": "stream",
     "text": [
      "{'_id': ObjectId('639afc476bf8070d50c15541'), 'title': 'The Shawshank Redemption', 'score': '9.3', 'genre': 'Drama', 'date': '1994', 'acteurs': ['Tim Robbins', 'Morgan Freeman', 'Bob Gunton'], 'public': 'R', 'durée': 142, 'description': 'Two imprisoned men bond over a number of years, finding solace and eventual redemption through acts of common decency.', 'pays': ['United States']}\n",
      "{'_id': ObjectId('639afc486bf8070d50c15542'), 'title': 'The Green Mile', 'score': '8.6', 'genre': 'Crime', 'date': '1999', 'acteurs': ['Tom Hanks', 'Michael Clarke Duncan', 'David Morse'], 'public': 'R', 'durée': 189, 'description': 'The lives of guards on Death Row are affected by one of their charges: a black man accused of child murder and rape, yet who has a mysterious gift.', 'pays': ['United States']}\n",
      "{'_id': ObjectId('639afc496bf8070d50c15543'), 'title': 'Interstellar', 'score': '8.6', 'genre': 'Adventure', 'date': '2014', 'acteurs': ['Matthew McConaughey', 'Anne Hathaway', 'Jessica Chastain'], 'public': 'PG-13', 'durée': 169, 'description': \"A team of explorers travel through a wormhole in space in an attempt to ensure humanity's survival.\", 'pays': ['United States', 'United Kingdom', 'Canada', 'Datasat', 'Dolby Digital', 'IMAX 6-Track']}\n",
      "{'_id': ObjectId('639afc4a6bf8070d50c15544'), 'title': 'Life Is Beautiful', 'score': '8.6', 'genre': 'Comedy', 'date': '1997', 'acteurs': ['Roberto Benigni', 'Nicoletta Braschi', 'Giorgio Cantarini'], 'public': 'PG-13', 'durée': 116, 'description': 'When an open-minded Jewish waiter and his son become victims of the Holocaust, he uses a perfect mixture of will, humor, and imagination to protect his son from the dangers around their camp.', 'pays': ['Italy']}\n",
      "{'_id': ObjectId('639afc4b6bf8070d50c15545'), 'title': 'Saving Private Ryan', 'score': '8.6', 'genre': 'Drama', 'date': '1998', 'acteurs': ['Tom Hanks', 'Matt Damon', 'Tom Sizemore'], 'public': 'R', 'durée': 169, 'description': 'Following the Normandy Landings, a group of U.S. soldiers go behind enemy lines to retrieve a paratrooper whose brothers have been killed in action.', 'pays': ['United States']}\n",
      "{'_id': ObjectId('639afc4c6bf8070d50c15546'), 'title': 'City of God', 'score': '8.6', 'genre': 'Crime', 'date': '2002', 'acteurs': ['Alexandre Rodrigues', 'Leandro Firmino', 'Matheus Nachtergaele'], 'public': 'R', 'durée': 130, 'description': \"In the slums of Rio, two kids' paths diverge as one struggles to become a photographer and the other a kingpin.\", 'pays': ['Brazil', 'France', 'Germany']}\n",
      "{'_id': ObjectId('639afc4e6bf8070d50c15547'), 'title': 'The Silence of the Lambs', 'score': '8.6', 'genre': 'Crime', 'date': '1991', 'acteurs': ['Jodie Foster', 'Anthony Hopkins', 'Lawrence A. Bonney'], 'public': 'R', 'durée': 118, 'description': 'A young F.B.I. cadet must receive the help of an incarcerated and manipulative cannibal killer to help catch another serial killer, a madman who skins his victims.', 'pays': ['United States']}\n",
      "{'_id': ObjectId('639afc506bf8070d50c15548'), 'title': \"It's a Wonderful Life\", 'score': '8.6', 'genre': 'Drama', 'date': '1946', 'acteurs': ['James Stewart', 'Donna Reed', 'Lionel Barrymore'], 'public': 'PG', 'durée': 130, 'description': 'An angel is sent from Heaven to help a desperately frustrated businessman by showing him what life would have been like if he had never existed.', 'pays': ['United States']}\n",
      "{'_id': ObjectId('639afc506bf8070d50c15549'), 'title': 'Seven Samurai', 'score': '8.6', 'genre': 'Action', 'date': '1954', 'acteurs': ['Toshirô Mifune', 'Takashi Shimura', 'Keiko Tsushima'], 'public': 'Not Rated', 'durée': 207, 'description': 'Farmers from a village exploited by bandits hire a veteran samurai for protection, who gathers six other samurai to join him.', 'pays': ['Japan']}\n",
      "{'_id': ObjectId('639afc516bf8070d50c1554a'), 'title': 'Se7en', 'score': '8.6', 'genre': 'Crime', 'date': '1995', 'acteurs': ['Morgan Freeman', 'Brad Pitt', 'Kevin Spacey'], 'public': 'R', 'durée': 127, 'description': 'Two detectives, a rookie and a veteran, hunt a serial killer who uses the seven deadly sins as his motives.', 'pays': ['United States']}\n",
      "{'_id': ObjectId('639afc536bf8070d50c1554b'), 'title': \"One Flew Over the Cuckoo's Nest\", 'score': '8.7', 'genre': 'Drama', 'date': '1975', 'acteurs': ['Jack Nicholson', 'Louise Fletcher', 'Michael Berryman'], 'public': 'R', 'durée': 133, 'description': 'In the Fall of 1963, a Korean War veteran and criminal pleads insanity and is admitted to a mental institution, where he rallies up the scared patients against the tyrannical nurse.', 'pays': ['United States']}\n",
      "{'_id': ObjectId('639afc536bf8070d50c1554c'), 'title': 'Goodfellas', 'score': '8.7', 'genre': 'Biography', 'date': '1990', 'acteurs': ['Robert De Niro', 'Ray Liotta', 'Joe Pesci'], 'public': 'R', 'durée': 145, 'description': 'The story of Henry Hill and his life in the mob, covering his relationship with his wife Karen Hill and his mob partners Jimmy Conway and Tommy DeVito in the Italian-American crime syndicate.', 'pays': ['United States']}\n",
      "{'_id': ObjectId('639afc556bf8070d50c1554d'), 'title': 'The Matrix', 'score': '8.7', 'genre': 'Action', 'date': '1999', 'acteurs': ['Keanu Reeves', 'Laurence Fishburne', 'Carrie-Anne Moss'], 'public': 'R', 'durée': 136, 'description': 'When a beautiful stranger leads computer hacker Neo to a forbidding underworld, he discovers the shocking truth--the life he knows is the elaborate deception of an evil cyber-intelligence.', 'pays': ['United States', 'Australia']}\n",
      "{'_id': ObjectId('639afc566bf8070d50c1554e'), 'title': 'Star Wars: Episode V - The Empire Strikes Back', 'score': '8.7', 'genre': 'Action', 'date': '1980', 'acteurs': ['Mark Hamill', 'Harrison Ford', 'Carrie Fisher'], 'public': 'PG', 'durée': 124, 'description': 'After the Rebels are brutally overpowered by the Empire on the ice planet Hoth, Luke Skywalker begins Jedi training with Yoda, while his friends are pursued across the galaxy by Darth Vader and bounty hunter Boba Fett.', 'pays': ['United States']}\n",
      "{'_id': ObjectId('639afc586bf8070d50c1554f'), 'title': 'Inception', 'score': '8.8', 'genre': 'Action', 'date': '2010', 'acteurs': ['Leonardo DiCaprio', 'Joseph Gordon-Levitt', 'Elliot Page'], 'public': 'PG-13', 'durée': 148, 'description': 'A thief who steals corporate secrets through the use of dream-sharing technology is given the inverse task of planting an idea into the mind of a C.E.O., but his tragic past may doom the project and his team to disaster.', 'pays': ['United States', 'United Kingdom']}\n",
      "{'_id': ObjectId('639afc596bf8070d50c15550'), 'title': 'The Lord of the Rings: The Two Towers', 'score': '8.8', 'genre': 'Action', 'date': '2002', 'acteurs': ['Elijah Wood', 'Ian McKellen', 'Viggo Mortensen'], 'public': 'PG-13', 'durée': 179, 'description': \"While Frodo and Sam edge closer to Mordor with the help of the shifty Gollum, the divided fellowship makes a stand against Sauron's new ally, Saruman, and his hordes of Isengard.\", 'pays': ['New Zealand', 'United States']}\n",
      "{'_id': ObjectId('639afc5a6bf8070d50c15551'), 'title': 'Gandhi', 'score': '8.1', 'genre': 'Biography', 'date': '1982', 'acteurs': ['Ben Kingsley', 'John Gielgud', 'Rohini Hattangadi'], 'public': 'PG', 'durée': 191, 'description': 'The life of the lawyer who became the famed leader of the Indian revolts against the British rule through his philosophy of nonviolent protest.', 'pays': ['United Kingdom', 'India', 'United States', 'South Africa', 'Color']}\n",
      "{'_id': ObjectId('639afc5b6bf8070d50c15552'), 'title': 'The Help', 'score': '8.1', 'genre': 'Drama', 'date': '2011', 'acteurs': ['Viola Davis', 'Emma Stone', 'Octavia Spencer'], 'public': 'PG-13', 'durée': 146, 'description': \"An aspiring author during the civil rights movement of the 1960s decides to write a book detailing the African American maids' point of view on the white families for which they work, and the hardships they go through on a daily basis.\", 'pays': ['United States', 'India']}\n",
      "{'_id': ObjectId('639afc5d6bf8070d50c15553'), 'title': 'The Iron Giant', 'score': '8.1', 'genre': 'Animation', 'date': '1999', 'acteurs': ['Eli Marienthal', 'Harry Connick Jr.', 'Jennifer Aniston'], 'public': 'PG', 'durée': 86, 'description': 'A young boy befriends a giant robot from outer space that a paranoid government agent wants to destroy.', 'pays': ['United States', 'Dolby Digital', 'SDDS', 'DTS']}\n",
      "{'_id': ObjectId('639afc5e6bf8070d50c15554'), 'title': 'Aladdin', 'score': '8.0', 'genre': 'Animation', 'date': '1992', 'acteurs': ['Scott Weinger', 'Robin Williams', 'Linda Larkin'], 'public': 'G', 'durée': 90, 'description': 'A kindhearted street urchin and a power-hungry Grand Vizier vie for a magic lamp that has the power to make their deepest wishes come true.', 'pays': ['United States']}\n",
      "{'_id': ObjectId('639afc5f6bf8070d50c15555'), 'title': 'Dersu Uzala', 'score': '8.2', 'genre': 'Adventure', 'date': '1975', 'acteurs': ['Maksim Munzuk', 'Yuriy Solomin', 'Mikhail Bychkov'], 'public': 'G', 'durée': 142, 'description': 'The Russian army sends an explorer on an expedition to the snowy Siberian wilderness where he makes friends with a seasoned local hunter.', 'pays': ['Soviet Union', 'Japan']}\n",
      "{'_id': ObjectId('639afc606bf8070d50c15556'), 'title': 'Everything Everywhere All at Once', 'score': '8.1', 'genre': 'Action', 'date': '2022', 'acteurs': ['Michelle Yeoh', 'Stephanie Hsu', 'Jamie Lee Curtis'], 'public': 'R', 'durée': 139, 'description': 'An aging Chinese immigrant is swept up in an insane adventure, in which she alone can save the world by exploring other universes connecting with the lives she could have led.', 'pays': ['United States']}\n",
      "{'_id': ObjectId('639afc616bf8070d50c15557'), 'title': 'Life of Brian', 'score': '8.0', 'genre': 'Comedy', 'date': '1979', 'acteurs': ['Graham Chapman', 'John Cleese', 'Michael Palin'], 'public': 'R', 'durée': 94, 'description': 'Born on the original Christmas in the stable next door to Jesus Christ, Brian of Nazareth spends his life being mistaken for a messiah.', 'pays': ['United Kingdom']}\n",
      "{'_id': ObjectId('639afc626bf8070d50c15558'), 'title': 'The Sound of Music', 'score': '8.1', 'genre': 'Biography', 'date': '1965', 'acteurs': ['Julie Andrews', 'Christopher Plummer', 'Eleanor Parker'], 'public': 'G', 'durée': 172, 'description': 'A young novitiate is sent by her convent in 1930s Austria to become a governess to the seven children of a widowed naval officer.', 'pays': ['United States']}\n",
      "{'_id': ObjectId('639afc636bf8070d50c15559'), 'title': 'Persona', 'score': '8.1', 'genre': 'Drama', 'date': '1966', 'acteurs': ['Bibi Andersson', 'Liv Ullmann', 'Margaretha Krook'], 'public': 'Not Rated', 'durée': 83, 'description': 'A nurse is put in charge of a mute actress and finds that their personae are melding together.', 'pays': ['Sweden']}\n",
      "{'_id': ObjectId('639afc646bf8070d50c1555a'), 'title': 'It Happened One Night', 'score': '8.1', 'genre': 'Comedy', 'date': '1934', 'acteurs': ['Clark Gable', 'Claudette Colbert', 'Walter Connolly'], 'public': 'Passed', 'durée': 105, 'description': 'A renegade reporter trailing a young runaway heiress for a big story joins her on a bus heading from Florida to New York, and they end up stuck with each other when the bus leaves them behind at one of the stops.', 'pays': ['United States']}\n",
      "{'_id': ObjectId('639afc666bf8070d50c1555b'), 'title': 'The Handmaiden', 'score': '8.1', 'genre': 'Drama', 'date': '2016', 'acteurs': ['Kim Min-hee', 'Ha Jung-woo', 'Cho Jin-woong'], 'public': 'Not Rated', 'durée': 145, 'description': 'A woman is hired as a handmaiden to a Japanese heiress, but secretly she is involved in a plot to defraud her.', 'pays': ['South Korea']}\n",
      "{'_id': ObjectId('639afc676bf8070d50c1555c'), 'title': 'The 400 Blows', 'score': '8.1', 'genre': 'Crime', 'date': '1959', 'acteurs': ['Jean-Pierre Léaud', 'Albert Rémy', 'Claire Maurier'], 'public': 'Not Rated', 'durée': 99, 'description': 'A young boy, left without attention, delves into a life of petty crime.', 'pays': ['France']}\n",
      "{'_id': ObjectId('639afc6a6bf8070d50c1555d'), 'title': 'Amores Perros', 'score': '8.1', 'genre': 'Drama', 'date': '2000', 'acteurs': ['Emilio Echevarría', 'Gael García Bernal', 'Goya Toledo'], 'public': 'R', 'durée': 154, 'description': \"A horrific car accident connects three stories, each involving characters dealing with loss, regret, and life's harsh realities, all in the name of love.\", 'pays': ['Mexico']}\n",
      "{'_id': ObjectId('639afc6a6bf8070d50c1555e'), 'title': 'Cool Hand Luke', 'score': '8.1', 'genre': 'Crime', 'date': '1967', 'acteurs': ['Paul Newman', 'George Kennedy', 'Strother Martin'], 'public': 'GP', 'durée': 127, 'description': 'A laid back Southern man is sentenced to two years in a rural prison, but refuses to conform.', 'pays': ['United States']}\n",
      "{'_id': ObjectId('639afc6b6bf8070d50c1555f'), 'title': 'My Father and My Son', 'score': '8.2', 'genre': 'Drama', 'date': '2005', 'acteurs': ['Çetin Tekindor', 'Fikret Kuskan', 'Hümeyra'], 'public': 'Not Rated', 'durée': 112, 'description': None, 'pays': ['Turkey']}\n",
      "{'_id': ObjectId('639afc6d6bf8070d50c15560'), 'title': 'Rebecca', 'score': '8.1', 'genre': 'Drama', 'date': '1940', 'acteurs': ['Laurence Olivier', 'Joan Fontaine', 'George Sanders'], 'public': 'Approved', 'durée': 130, 'description': \"A self-conscious woman juggles adjusting to her new role as an aristocrat's wife and avoiding being intimidated by his first wife's spectral presence.\", 'pays': ['United States']}\n",
      "{'_id': ObjectId('639afc6e6bf8070d50c15561'), 'title': 'The Grapes of Wrath', 'score': '8.1', 'genre': 'Drama', 'date': '1940', 'acteurs': ['Henry Fonda', 'Jane Darwell', 'John Carradine'], 'public': 'Passed', 'durée': 129, 'description': 'An Oklahoma family, driven off their farm by the poverty and hopelessness of the Dust Bowl, joins the westward migration to California, suffering the misfortunes of the homeless in the Great Depression.', 'pays': ['United States']}\n",
      "{'_id': ObjectId('639afc6f6bf8070d50c15562'), 'title': 'Pirates of the Caribbean: The Curse of the Black Pearl', 'score': '8.1', 'genre': 'Action', 'date': '2003', 'acteurs': ['Johnny Depp', 'Geoffrey Rush', 'Orlando Bloom'], 'public': 'PG-13', 'durée': 143, 'description': 'Blacksmith Will Turner teams up with eccentric pirate \"Captain\" Jack Sparrow to save his love, the governor\\'s daughter, from Jack\\'s former pirate allies, who are now undead.', 'pays': ['United States']}\n",
      "{'_id': ObjectId('639afc706bf8070d50c15563'), 'title': 'Jai Bhim', 'score': '8.9', 'genre': 'Crime', 'date': '2021', 'acteurs': ['Suriya', 'Lijo Mol Jose', 'Manikandan K.'], 'public': 'TV-MA', 'durée': 164, 'description': 'When a tribal man is arrested for a case of alleged theft, his wife turns to a human-rights lawyer to help bring justice.', 'pays': ['India']}\n",
      "{'_id': ObjectId('639afc716bf8070d50c15564'), 'title': 'La haine', 'score': '8.1', 'genre': 'Crime', 'date': '1995', 'acteurs': ['Vincent Cassel', 'Hubert Koundé', 'Saïd Taghmaoui'], 'public': 'Not Rated', 'durée': 98, 'description': '24 hours in the lives of three young men in the French suburbs the day after a violent riot.', 'pays': ['France', 'United States']}\n",
      "{'_id': ObjectId('639afc726bf8070d50c15565'), 'title': \"Hachi: A Dog's Tale\", 'score': '8.1', 'genre': 'Biography', 'date': '2009', 'acteurs': ['Richard Gere', 'Joan Allen', 'Cary-Hiroyuki Tagawa'], 'public': 'G', 'durée': 93, 'description': 'A college professor bonds with an abandoned dog he takes into his home.', 'pays': ['United Kingdom', 'United States']}\n",
      "{'_id': ObjectId('639afc736bf8070d50c15566'), 'title': 'The Battle of Algiers', 'score': '8.1', 'genre': 'Drama', 'date': '1966', 'acteurs': ['Brahim Hadjadj', 'Jean Martin', 'Yacef Saadi'], 'public': 'Not Rated', 'durée': 121, 'description': 'In the 1950s, fear and violence escalate as the people of Algiers fight for independence from the French government.', 'pays': ['Italy', 'Algeria']}\n",
      "{'_id': ObjectId('639afc756bf8070d50c15567'), 'title': 'To Be or Not to Be', 'score': '8.2', 'genre': 'Comedy', 'date': '1942', 'acteurs': ['Carole Lombard', 'Jack Benny', 'Robert Stack'], 'public': 'Passed', 'durée': 99, 'description': None, 'pays': ['United States']}\n",
      "{'_id': ObjectId('639afc766bf8070d50c15568'), 'title': 'The Incredibles', 'score': '8.0', 'genre': 'Animation', 'date': '2004', 'acteurs': ['Craig T. Nelson', 'Samuel L. Jackson', 'Holly Hunter'], 'public': 'PG', 'durée': 115, 'description': 'While trying to lead a quiet suburban life, a family of undercover superheroes are forced into action to save the world.', 'pays': ['United States', 'Black and White']}\n",
      "{'_id': ObjectId('639afc776bf8070d50c15569'), 'title': 'The Best Years of Our Lives', 'score': '8.1', 'genre': 'Drama', 'date': '1946', 'acteurs': ['Myrna Loy', 'Dana Andrews', 'Fredric March'], 'public': 'Approved', 'durée': 170, 'description': 'Three World War II veterans, two of them traumatized or disabled, return home to the American midwest to discover that they and their families have been irreparably changed.', 'pays': ['United States']}\n",
      "{'_id': ObjectId('639afc786bf8070d50c1556a'), 'title': 'The Exorcist', 'score': '8.1', 'genre': 'Horror', 'date': '1973', 'acteurs': ['Ellen Burstyn', 'Max von Sydow', 'Linda Blair'], 'public': 'R', 'durée': 122, 'description': 'When a teenage girl is possessed by a mysterious entity, her mother seeks the help of two priests to save her daughter.', 'pays': ['United States']}\n",
      "{'_id': ObjectId('639afc796bf8070d50c1556b'), 'title': 'Groundhog Day', 'score': '8.1', 'genre': 'Comedy', 'date': '1993', 'acteurs': ['Bill Murray', 'Andie MacDowell', 'Chris Elliott'], 'public': 'PG', 'durée': 101, 'description': 'A narcissistic, self-centered weatherman finds himself in a time loop on Groundhog Day, and the day keeps repeating until he gets it right.', 'pays': ['United States']}\n",
      "{'_id': ObjectId('639afc7b6bf8070d50c1556c'), 'title': 'Before Sunset', 'score': '8.1', 'genre': 'Drama', 'date': '2004', 'acteurs': ['Ethan Hawke', 'Julie Delpy', 'Vernon Dobtcheff'], 'public': 'R', 'durée': 80, 'description': \"Nine years after Jesse and Celine first met, they encounter each other again on the French leg of Jesse's book tour.\", 'pays': ['United States', 'France']}\n",
      "{'_id': ObjectId('639afc7d6bf8070d50c1556d'), 'title': 'The Wizard of Oz', 'score': '8.1', 'genre': 'Adventure', 'date': '1939', 'acteurs': ['Judy Garland', 'Frank Morgan', 'Ray Bolger'], 'public': 'G', 'durée': 102, 'description': \"Young Dorothy Gale and her dog Toto are swept away by a tornado from their Kansas farm to the magical Land of Oz, and embark on a quest with three new friends to see the Wizard, who can return her to her home and fulfill the others' wishes.\", 'pays': ['United States']}\n",
      "{'_id': ObjectId('639afc7e6bf8070d50c1556e'), 'title': 'Into the Wild', 'score': '8.1', 'genre': 'Adventure', 'date': '2007', 'acteurs': ['Emile Hirsch', 'Vince Vaughn', 'Catherine Keener'], 'public': 'R', 'durée': 148, 'description': 'After graduating from Emory University, top student and athlete Christopher McCandless abandons his possessions, gives his entire $24,000 savings account to charity and hitchhikes to Alaska to live in the wilderness. Along the way, Christopher encounters a series of characters th...', 'pays': ['United States']}\n",
      "{'_id': ObjectId('639afc806bf8070d50c1556f'), 'title': 'Network', 'score': '8.1', 'genre': 'Drama', 'date': '1976', 'acteurs': ['Faye Dunaway', 'William Holden', 'Peter Finch'], 'public': 'R', 'durée': 121, 'description': \"A television network cynically exploits a deranged former anchor's ravings and revelations about the news media for its own profit, but finds that his message may be difficult to control.\", 'pays': ['United States']}\n",
      "{'_id': ObjectId('639afc816bf8070d50c15570'), 'title': 'Pather Panchali', 'score': '8.3', 'genre': 'Drama', 'date': '1955', 'acteurs': ['Kanu Bannerjee', 'Karuna Bannerjee', 'Subir Banerjee'], 'public': 'Not Rated', 'durée': 125, 'description': 'Impoverished priest Harihar Ray, dreaming of a better life for himself and his family, leaves his rural Bengal village in search of work.', 'pays': ['India']}\n",
      "{'_id': ObjectId('639afc816bf8070d50c15571'), 'title': 'Rush', 'score': '8.1', 'genre': 'Action', 'date': '2013', 'acteurs': ['Daniel Brühl', 'Chris Hemsworth', 'Olivia Wilde'], 'public': 'R', 'durée': 123, 'description': 'The merciless 1970s rivalry between Formula One rivals James Hunt and Niki Lauda.', 'pays': ['United Kingdom', 'United States']}\n",
      "{'_id': ObjectId('639afc836bf8070d50c15572'), 'title': 'Ratatouille', 'score': '8.1', 'genre': 'Animation', 'date': '2007', 'acteurs': ['Brad Garrett', 'Lou Romano', 'Patton Oswalt'], 'public': 'G', 'durée': 111, 'description': 'A rat who can cook makes an unusual alliance with a young kitchen worker at a famous Paris restaurant.', 'pays': ['United States']}\n",
      "{'_id': ObjectId('639afc846bf8070d50c15573'), 'title': 'Logan', 'score': '8.1', 'genre': 'Action', 'date': '2017', 'acteurs': ['Hugh Jackman', 'Patrick Stewart', 'Dafne Keen'], 'public': 'R', 'durée': 137, 'description': 'In a future where mutants are nearly extinct, an elderly and weary Logan leads a quiet life. But when Laura, a mutant child pursued by scientists, comes to him for help, he must get her to safety.', 'pays': ['United States']}\n",
      "{'_id': ObjectId('639afc856bf8070d50c15574'), 'title': 'Stand by Me', 'score': '8.1', 'genre': 'Adventure', 'date': '1986', 'acteurs': ['Wil Wheaton', 'River Phoenix', 'Corey Feldman'], 'public': 'R', 'durée': 89, 'description': 'After the death of one of his friends, a writer recounts a childhood journey with his friends to find the body of a missing boy.', 'pays': ['United States']}\n",
      "{'_id': ObjectId('639afc856bf8070d50c15575'), 'title': 'The Terminator', 'score': '8.1', 'genre': 'Action', 'date': '1984', 'acteurs': ['Arnold Schwarzenegger', 'Linda Hamilton', 'Michael Biehn'], 'public': 'R', 'durée': 107, 'description': \"A human soldier is sent from 2029 to 1984 to stop an almost indestructible cyborg killing machine, sent from the same year, which has been programmed to execute a young woman whose unborn son is the key to humanity's future salvation.\", 'pays': ['United Kingdom', 'United States']}\n",
      "{'_id': ObjectId('639afc876bf8070d50c15576'), 'title': 'Spotlight', 'score': '8.1', 'genre': 'Biography', 'date': '2015', 'acteurs': ['Mark Ruffalo', 'Michael Keaton', 'Rachel McAdams'], 'public': 'R', 'durée': 129, 'description': 'The true story of how the Boston Globe uncovered the massive scandal of child molestation and cover-up within the local Catholic Archdiocese, shaking the entire Catholic Church to its core.', 'pays': ['United States']}\n",
      "{'_id': ObjectId('639afc886bf8070d50c15577'), 'title': 'Platoon', 'score': '8.1', 'genre': 'Drama', 'date': '1986', 'acteurs': ['Charlie Sheen', 'Tom Berenger', 'Willem Dafoe'], 'public': 'R', 'durée': 2, 'description': 'Chris Taylor, a neophyte recruit in Vietnam, finds himself caught in a battle of wills between two sergeants, one good and the other evil. A shrewd examination of the brutality of war and the duality of man in conflict.', 'pays': ['United States', 'United Kingdom']}\n",
      "{'_id': ObjectId('639afc896bf8070d50c15578'), 'title': 'Rocky', 'score': '8.1', 'genre': 'Drama', 'date': '1976', 'acteurs': ['Sylvester Stallone', 'Talia Shire', 'Burt Young'], 'public': 'PG', 'durée': 2, 'description': 'A small-time Philadelphia boxer gets a supremely rare chance to fight the world heavyweight champion in a bout in which he strives to go the distance for his self-respect.', 'pays': ['United States']}\n",
      "{'_id': ObjectId('639afc8a6bf8070d50c15579'), 'title': 'Ford v Ferrari', 'score': '8.1', 'genre': 'Action', 'date': '2019', 'acteurs': ['Matt Damon', 'Christian Bale', 'Jon Bernthal'], 'public': 'PG-13', 'durée': 152, 'description': 'American car designer Carroll Shelby and driver Ken Miles battle corporate interference and the laws of physics to build a revolutionary race car for Ford in order to defeat Ferrari at the 24 Hours of Le Mans in 1966.', 'pays': ['United States']}\n",
      "{'_id': ObjectId('639afc8b6bf8070d50c1557a'), 'title': 'Hotel Rwanda', 'score': '8.1', 'genre': 'Biography', 'date': '2004', 'acteurs': ['Don Cheadle', 'Sophie Okonedo', 'Joaquin Phoenix'], 'public': 'PG-13', 'durée': 121, 'description': 'Paul Rusesabagina, a hotel manager, houses over a thousand Tutsi refugees during their struggle against the Hutu militia in Rwanda, Africa.', 'pays': ['United Kingdom', 'South Africa', 'Italy', 'United States']}\n",
      "{'_id': ObjectId('639afc8d6bf8070d50c1557b'), 'title': 'Tokyo Story', 'score': '8.2', 'genre': 'Drama', 'date': '1953', 'acteurs': ['Chishû Ryû', 'Chieko Higashiyama', 'Sô Yamamura'], 'public': 'Not Rated', 'durée': 136, 'description': 'An old couple visit their children and grandchildren in the city, but receive little attention.', 'pays': ['Japan']}\n",
      "{'_id': ObjectId('639afc8d6bf8070d50c1557c'), 'title': 'The Passion of Joan of Arc', 'score': '8.2', 'genre': 'Biography', 'date': '1928', 'acteurs': ['Maria Falconetti', 'Eugene Silvain', 'André Berley'], 'public': 'Passed', 'durée': 114, 'description': \"In 1431, Jeanne d'Arc is placed on trial on charges of heresy. The ecclesiastical jurists attempt to force Jeanne to recant her claims of holy visions.\", 'pays': ['France']}\n",
      "{'_id': ObjectId('639afc8f6bf8070d50c1557d'), 'title': 'Dead Poets Society', 'score': '8.1', 'genre': 'Comedy', 'date': '1989', 'acteurs': ['Robin Williams', 'Robert Sean Leonard', 'Ethan Hawke'], 'public': 'PG', 'durée': 128, 'description': 'Maverick teacher John Keating uses poetry to embolden his boarding school students to new heights of self-expression.', 'pays': ['United States']}\n",
      "{'_id': ObjectId('639afc906bf8070d50c1557e'), 'title': 'Jaws', 'score': '8.1', 'genre': 'Adventure', 'date': '1975', 'acteurs': ['Roy Scheider', 'Robert Shaw', 'Richard Dreyfuss'], 'public': 'PG', 'durée': 124, 'description': \"When a killer shark unleashes chaos on a beach community off Cape Cod, it's up to a local sheriff, a marine biologist, and an old seafarer to hunt the beast down.\", 'pays': ['United States']}\n",
      "{'_id': ObjectId('639afc916bf8070d50c1557f'), 'title': 'The Big Lebowski', 'score': '8.1', 'genre': 'Comedy', 'date': '1998', 'acteurs': ['Jeff Bridges', 'John Goodman', 'Julianne Moore'], 'public': 'R', 'durée': 117, 'description': 'Ultimate L.A. slacker Jeff \"The Dude\" Lebowski, mistaken for a millionaire of the same name, seeks restitution for a rug ruined by debt collectors, enlisting his bowling buddies for help while trying to find the millionaire\\'s missing wife.', 'pays': ['United States', 'United Kingdom', 'DTS', 'Dolby Digital']}\n",
      "{'_id': ObjectId('639afc926bf8070d50c15580'), 'title': 'Monsters, Inc.', 'score': '8.1', 'genre': 'Animation', 'date': '2001', 'acteurs': ['Billy Crystal', 'John Goodman', 'Mary Gibbs'], 'public': 'G', 'durée': 92, 'description': 'In order to power the city, monsters have to scare children so that they scream. However, the children are toxic to the monsters, and after a child gets through, two monsters realize things may not be what they think.', 'pays': ['United States']}\n",
      "{'_id': ObjectId('639afc946bf8070d50c15581'), 'title': 'How to Train Your Dragon', 'score': '8.1', 'genre': 'Animation', 'date': '2010', 'acteurs': ['Jay Baruchel', 'Gerard Butler', 'Christopher Mintz-Plasse'], 'public': 'PG', 'durée': 98, 'description': 'A hapless young Viking who aspires to hunt dragons becomes the unlikely friend of a young dragon himself, and learns there may be more to the creatures than he assumed.', 'pays': ['United States']}\n",
      "{'_id': ObjectId('639afc956bf8070d50c15582'), 'title': 'Mary and Max', 'score': '8.1', 'genre': 'Animation', 'date': '2009', 'acteurs': ['Toni Collette', 'Philip Seymour Hoffman', 'Eric Bana'], 'public': 'Not Rated', 'durée': 92, 'description': 'A tale of friendship between two unlikely pen pals: Mary, a lonely, eight-year-old girl living in the suburbs of Melbourne, and Max, a forty-four-year old, severely obese man living in New York.', 'pays': ['Australia', 'Color']}\n",
      "{'_id': ObjectId('639afc966bf8070d50c15583'), 'title': 'Room', 'score': '8.1', 'genre': 'Drama', 'date': '2015', 'acteurs': ['Brie Larson', 'Jacob Tremblay', 'Sean Bridgers'], 'public': 'R', 'durée': 118, 'description': 'Held captive for 7 years in an enclosed space, a woman and her young son finally gain their freedom, allowing the boy to experience the outside world for the first time.', 'pays': ['Ireland', 'Canada', 'United Kingdom', 'United States']}\n",
      "{'_id': ObjectId('639afc986bf8070d50c15584'), 'title': 'Mad Max: Fury Road', 'score': '8.1', 'genre': 'Action', 'date': '2015', 'acteurs': ['Tom Hardy', 'Charlize Theron', 'Nicholas Hoult'], 'public': 'R', 'durée': 2, 'description': 'In a post-apocalyptic wasteland, a woman rebels against a tyrannical ruler in search for her homeland with the aid of a group of female prisoners, a psychotic worshiper, and a drifter named Max.', 'pays': ['Australia']}\n",
      "{'_id': ObjectId('639afc996bf8070d50c15585'), 'title': 'The Seventh Seal', 'score': '8.1', 'genre': 'Drama', 'date': '1957', 'acteurs': ['Max von Sydow', 'Gunnar Björnstrand', 'Bengt Ekerot'], 'public': 'Not Rated', 'durée': 96, 'description': None, 'pays': ['Sweden']}\n",
      "{'_id': ObjectId('639afc9a6bf8070d50c15586'), 'title': 'Wild Tales', 'score': '8.1', 'genre': 'Comedy', 'date': '2014', 'acteurs': ['Darío Grandinetti', 'María Marull', 'Mónica Villa'], 'public': 'R', 'durée': 122, 'description': 'Six short stories that explore the extremities of human behavior involving people in distress.', 'pays': ['Argentina', 'Spain', 'France', 'United Kingdom']}\n",
      "{'_id': ObjectId('639afc9c6bf8070d50c15587'), 'title': 'Memories of Murder', 'score': '8.1', 'genre': 'Crime', 'date': '2003', 'acteurs': ['Song Kang-ho', 'Kim Sang-kyung', 'Roe-ha Kim'], 'public': 'Not Rated', 'durée': 132, 'description': 'In a small Korean province in 1986, two detectives struggle with the case of multiple young women being found raped and murdered by an unknown culprit.', 'pays': ['South Korea']}\n",
      "{'_id': ObjectId('639afc9d6bf8070d50c15588'), 'title': 'Mr. Smith Goes to Washington', 'score': '8.1', 'genre': 'Comedy', 'date': '1939', 'acteurs': ['James Stewart', 'Jean Arthur', 'Claude Rains'], 'public': 'Passed', 'durée': 129, 'description': 'A naive youth leader is appointed to fill a vacancy in the U.S. Senate. His idealistic plans promptly collide with corruption at home and subterfuge from his hero in Washington, but he tries to forge ahead despite attacks on his character.', 'pays': ['United States']}\n",
      "{'_id': ObjectId('639afc9e6bf8070d50c15589'), 'title': 'Sherlock Jr.', 'score': '8.2', 'genre': 'Action', 'date': '1924', 'acteurs': ['Buster Keaton', 'Kathryn McGuire', 'Joe Keaton'], 'public': 'Passed', 'durée': 45, 'description': \"A film projectionist longs to be a detective, and puts his meagre skills to work when he is framed by a rival for stealing his girlfriend's father's pocketwatch.\", 'pays': ['United States']}\n",
      "{'_id': ObjectId('639afc9f6bf8070d50c1558a'), 'title': 'Hacksaw Ridge', 'score': '8.1', 'genre': 'Biography', 'date': '2016', 'acteurs': ['Andrew Garfield', 'Sam Worthington', 'Luke Bracey'], 'public': 'R', 'durée': 139, 'description': 'World War II American Army Medic Desmond T. Doss, who served during the Battle of Okinawa, refuses to kill people and becomes the first man in American history to receive the Medal of Honor without firing a shot.', 'pays': ['Australia', 'United States', 'United Kingdom', 'China']}\n",
      "{'_id': ObjectId('639afca16bf8070d50c1558b'), 'title': 'The Wages of Fear', 'score': '8.2', 'genre': 'Adventure', 'date': '1953', 'acteurs': ['Yves Montand', 'Charles Vanel', 'Peter van Eyck'], 'public': 'Not Rated', 'durée': 131, 'description': 'In a decrepit South American village, four men are hired to transport an urgent nitroglycerine shipment without the equipment that would make it safe.', 'pays': ['France', 'Italy']}\n",
      "{'_id': ObjectId('639afca26bf8070d50c1558c'), 'title': 'Barry Lyndon', 'score': '8.1', 'genre': 'Adventure', 'date': '1975', 'acteurs': [\"Ryan O'Neal\", 'Marisa Berenson', 'Patrick Magee'], 'public': 'PG', 'durée': 185, 'description': \"An Irish rogue wins the heart of a rich widow and assumes her dead husband's aristocratic position in 18th-century England.\", 'pays': ['United Kingdom', 'United States', 'Mono']}\n",
      "{'_id': ObjectId('639afca26bf8070d50c1558d'), 'title': 'Klaus', 'score': '8.1', 'genre': 'Animation', 'date': '2019', 'acteurs': ['Jason Schwartzman', 'J.K. Simmons', 'Rashida Jones'], 'public': 'PG', 'durée': 96, 'description': \"A simple act of kindness always sparks another, even in a frozen, faraway place. When Smeerensburg's new postman, Jesper, befriends toymaker Klaus, their gifts melt an age-old feud and deliver a sleigh full of holiday traditions.\", 'pays': ['Spain', 'United Kingdom', 'United States']}\n",
      "{'_id': ObjectId('639afca46bf8070d50c1558e'), 'title': 'In the Name of the Father', 'score': '8.1', 'genre': 'Biography', 'date': '1993', 'acteurs': ['Daniel Day-Lewis', 'Pete Postlethwaite', 'Alison Crosbie'], 'public': 'R', 'durée': 133, 'description': None, 'pays': ['Ireland', 'United Kingdom']}\n",
      "{'_id': ObjectId('639afca56bf8070d50c1558f'), 'title': 'The Deer Hunter', 'score': '8.1', 'genre': 'Drama', 'date': '1978', 'acteurs': ['Robert De Niro', 'Christopher Walken', 'John Cazale'], 'public': 'R', 'durée': 183, 'description': 'An in-depth examination of the ways in which the Vietnam War impacts and disrupts the lives of several friends in a small steel mill town in Pennsylvania.', 'pays': ['United States', 'United Kingdom']}\n",
      "{'_id': ObjectId('639afca66bf8070d50c15590'), 'title': 'The Grand Budapest Hotel', 'score': '8.1', 'genre': 'Adventure', 'date': '2014', 'acteurs': ['Ralph Fiennes', 'F. Murray Abraham', 'Mathieu Amalric'], 'public': 'R', 'durée': 99, 'description': \"A writer encounters the owner of an aging high-class hotel, who tells him of his early years serving as a lobby boy in the hotel's glorious years under an exceptional concierge.\", 'pays': ['United States', 'Germany', 'Color']}\n",
      "{'_id': ObjectId('639afca86bf8070d50c15591'), 'title': 'The General', 'score': '8.2', 'genre': 'Action', 'date': '1926', 'acteurs': ['Buster Keaton', 'Marion Mack', 'Glen Cavender'], 'public': 'Passed', 'durée': 67, 'description': 'After being rejected by the Confederate military, not realizing it was due to his crucial civilian role, an engineer must single-handedly recapture his beloved locomotive after it is seized by Union spies and return it through enemy lines.', 'pays': ['United States']}\n",
      "{'_id': ObjectId('639afca96bf8070d50c15592'), 'title': 'The Third Man', 'score': '8.1', 'genre': 'Film-Noir', 'date': '1949', 'acteurs': ['Orson Welles', 'Joseph Cotten', 'Alida Valli'], 'public': 'Approved', 'durée': 93, 'description': 'Pulp novelist Holly Martins travels to shadowy, postwar Vienna, only to find himself investigating the mysterious death of an old friend, Harry Lime.', 'pays': ['United Kingdom']}\n",
      "{'_id': ObjectId('639afcaa6bf8070d50c15593'), 'title': 'Gone Girl', 'score': '8.1', 'genre': 'Drama', 'date': '2014', 'acteurs': ['Ben Affleck', 'Rosamund Pike', 'Neil Patrick Harris'], 'public': 'R', 'durée': 149, 'description': \"With his wife's disappearance having become the focus of an intense media circus, a man sees the spotlight turned on him when it's suspected that he may not be innocent.\", 'pays': ['United States']}\n",
      "{'_id': ObjectId('639afcab6bf8070d50c15594'), 'title': 'Wild Strawberries', 'score': '8.1', 'genre': 'Drama', 'date': '1957', 'acteurs': ['Victor Sjöström', 'Bibi Andersson', 'Ingrid Thulin'], 'public': 'Not Rated', 'durée': 91, 'description': None, 'pays': ['Sweden']}\n",
      "{'_id': ObjectId('639afcac6bf8070d50c15595'), 'title': 'Ben-Hur', 'score': '8.1', 'genre': 'Adventure', 'date': '1959', 'acteurs': ['Charlton Heston', 'Jack Hawkins', 'Stephen Boyd'], 'public': 'G', 'durée': 212, 'description': 'After a Jewish prince is betrayed and sent into slavery by a Roman friend in 1st-century Jerusalem, he regains his freedom and comes back for revenge.', 'pays': ['United States']}\n",
      "{'_id': ObjectId('639afcad6bf8070d50c15596'), 'title': 'Harry Potter and the Deathly Hallows: Part 2', 'score': '8.1', 'genre': 'Adventure', 'date': '2011', 'acteurs': ['Daniel Radcliffe', 'Emma Watson', 'Rupert Grint'], 'public': 'PG-13', 'durée': 130, 'description': \"Harry, Ron, and Hermione search for Voldemort's remaining Horcruxes in their effort to destroy the Dark Lord as the final battle rages on at Hogwarts.\", 'pays': ['United Kingdom', 'United States']}\n",
      "{'_id': ObjectId('639afcaf6bf8070d50c15597'), 'title': '12 Years a Slave', 'score': '8.1', 'genre': 'Biography', 'date': '2013', 'acteurs': ['Chiwetel Ejiofor', 'Michael Kenneth Williams', 'Michael Fassbender'], 'public': 'R', 'durée': 134, 'description': 'In the antebellum United States, Solomon Northup, a free black man from upstate New York, is abducted and sold into slavery.', 'pays': ['United States', 'United Kingdom']}\n",
      "{'_id': ObjectId('639afcb06bf8070d50c15598'), 'title': 'Before Sunrise', 'score': '8.1', 'genre': 'Drama', 'date': '1995', 'acteurs': ['Ethan Hawke', 'Julie Delpy', 'Andrea Eckert'], 'public': 'R', 'durée': 101, 'description': 'A young man and woman meet on a train in Europe, and wind up spending one evening together in Vienna. Unfortunately, both know that this will probably be their only night together.', 'pays': ['United States', 'Austria']}\n",
      "{'_id': ObjectId('639afcb16bf8070d50c15599'), 'title': 'On the Waterfront', 'score': '8.1', 'genre': 'Crime', 'date': '1954', 'acteurs': ['Marlon Brando', 'Karl Malden', 'Lee J. Cobb'], 'public': 'Approved', 'durée': 108, 'description': \"An ex-prize fighter turned New Jersey longshoreman struggles to stand up to his corrupt union bosses, including his older brother, as he starts to connect with the grieving sister of one of the syndicate's victims.\", 'pays': ['United States']}\n",
      "{'_id': ObjectId('639afcb26bf8070d50c1559a'), 'title': 'The Gold Rush', 'score': '8.2', 'genre': 'Adventure', 'date': '1925', 'acteurs': ['Charles Chaplin', 'Mack Swain', 'Tom Murray'], 'public': 'Passed', 'durée': 95, 'description': 'A prospector goes to the Klondike during the 1890s gold rush in hopes of making his fortune, and is smitten with a girl he sees in a dance hall.', 'pays': ['United States']}\n",
      "{'_id': ObjectId('639afcb46bf8070d50c1559b'), 'title': 'Blade Runner', 'score': '8.1', 'genre': 'Action', 'date': '1982', 'acteurs': ['Harrison Ford', 'Rutger Hauer', 'Sean Young'], 'public': 'R', 'durée': 117, 'description': 'A blade runner must pursue and terminate four replicants who stole a ship in space and have returned to Earth to find their creator.', 'pays': ['United States']}\n",
      "{'_id': ObjectId('639afcb56bf8070d50c1559c'), 'title': 'Children of Heaven', 'score': '8.2', 'genre': 'Drama', 'date': '1997', 'acteurs': ['Mohammad Amir Naji', 'Amir Farrokh Hashemian', 'Bahare Seddiqi'], 'public': 'PG', 'durée': 89, 'description': 'After a boy loses his sister\\'s pair of shoes, he goes on a series of adventures in order to find them. When he can\\'t, he tries a new way to \"win\" a new pair.', 'pays': ['Iran']}\n",
      "{'_id': ObjectId('639afcb66bf8070d50c1559d'), 'title': 'Million Dollar Baby', 'score': '8.1', 'genre': 'Drama', 'date': '2004', 'acteurs': ['Hilary Swank', 'Clint Eastwood', 'Morgan Freeman'], 'public': 'PG-13', 'durée': 132, 'description': 'A determined woman works with a hardened boxing trainer to become a professional.', 'pays': ['United States']}\n",
      "{'_id': ObjectId('639afcb86bf8070d50c1559e'), 'title': 'Catch Me If You Can', 'score': '8.1', 'genre': 'Biography', 'date': '2002', 'acteurs': ['Leonardo DiCaprio', 'Tom Hanks', 'Christopher Walken'], 'public': 'PG-13', 'durée': 141, 'description': 'Barely 21 yet, Frank is a skilled forger who has passed as a doctor, lawyer and pilot. FBI agent Carl becomes obsessed with tracking down the con man, who only revels in the pursuit.', 'pays': ['United States', 'Canada']}\n",
      "{'_id': ObjectId('639afcb96bf8070d50c1559f'), 'title': 'My Neighbor Totoro', 'score': '8.1', 'genre': 'Animation', 'date': '1988', 'acteurs': ['Hitoshi Takagi', 'Noriko Hidaka', 'Chika Sakamoto'], 'public': 'G', 'durée': 86, 'description': 'When two girls move to the country to be near their ailing mother, they have adventures with the wondrous forest spirits who live nearby.', 'pays': ['Japan']}\n",
      "{'_id': ObjectId('639afcba6bf8070d50c155a0'), 'title': 'Prisoners', 'score': '8.1', 'genre': 'Crime', 'date': '2013', 'acteurs': ['Hugh Jackman', 'Jake Gyllenhaal', 'Viola Davis'], 'public': 'R', 'durée': 153, 'description': \"When Keller Dover's daughter and her friend go missing, he takes matters into his own hands as the police pursue multiple leads and the pressure mounts.\", 'pays': ['United States', 'SDDS', 'Datasat', 'Dolby Digital', 'Dolby Surround 7.1']}\n",
      "{'_id': ObjectId('639afcbb6bf8070d50c155a1'), 'title': 'Gran Torino', 'score': '8.1', 'genre': 'Drama', 'date': '2008', 'acteurs': ['Clint Eastwood', 'Bee Vang', 'Christopher Carley'], 'public': 'R', 'durée': 116, 'description': \"Disgruntled Korean War veteran Walt Kowalski sets out to reform his neighbor, Thao Lor, a Hmong teenager who tried to steal Kowalski's prized possession: a 1972 Gran Torino.\", 'pays': ['Germany', 'United States']}\n",
      "{'_id': ObjectId('639afcbc6bf8070d50c155a2'), 'title': 'Fargo', 'score': '8.1', 'genre': 'Crime', 'date': '1996', 'acteurs': ['William H. Macy', 'Frances McDormand', 'Steve Buscemi'], 'public': 'R', 'durée': 98, 'description': \"Minnesota car salesman Jerry Lundegaard's inept crime falls apart due to his and his henchmen's bungling and the persistent police work of the quite pregnant Marge Gunderson.\", 'pays': ['United States', 'United Kingdom']}\n",
      "{'_id': ObjectId('639afcbe6bf8070d50c155a3'), 'title': 'Warrior', 'score': '8.2', 'genre': 'Action', 'date': '2011', 'acteurs': ['Tom Hardy', 'Nick Nolte', 'Joel Edgerton'], 'public': 'PG-13', 'durée': 140, 'description': \"The youngest son of an alcoholic former boxer returns home, where he's trained by his father for competition in a mixed martial arts tournament - a path that puts the fighter on a collision course with his estranged, older brother.\", 'pays': ['United States']}\n",
      "{'_id': ObjectId('639afcbe6bf8070d50c155a4'), 'title': 'Trainspotting', 'score': '8.1', 'genre': 'Drama', 'date': '1996', 'acteurs': ['Ewan McGregor', 'Ewen Bremner', 'Jonny Lee Miller'], 'public': 'R', 'durée': 93, 'description': 'Renton, deeply immersed in the Edinburgh drug scene, tries to clean up and get out, despite the allure of the drugs and influence of friends.', 'pays': ['United Kingdom']}\n",
      "{'_id': ObjectId('639afcbf6bf8070d50c155a5'), 'title': 'Three Billboards Outside Ebbing, Missouri', 'score': '8.1', 'genre': 'Comedy', 'date': '2017', 'acteurs': ['Frances McDormand', 'Woody Harrelson', 'Sam Rockwell'], 'public': 'R', 'durée': 115, 'description': \"A mother personally challenges the local authorities to solve her daughter's murder when they fail to catch the culprit.\", 'pays': ['United Kingdom', 'United States']}\n",
      "{'_id': ObjectId('639afcc16bf8070d50c155a6'), 'title': 'The Bridge on the River Kwai', 'score': '8.2', 'genre': 'Adventure', 'date': '1957', 'acteurs': ['William Holden', 'Alec Guinness', 'Jack Hawkins'], 'public': 'PG', 'durée': 161, 'description': 'British POWs are forced to build a railway bridge across the river Kwai for their Japanese captors in occupied Burma, not knowing that the allied forces are planning a daring commando raid through the jungle to destroy it.', 'pays': ['United Kingdom', 'United States']}\n",
      "{'_id': ObjectId('639afcc26bf8070d50c155a7'), 'title': \"Howl's Moving Castle\", 'score': '8.2', 'genre': 'Animation', 'date': '2004', 'acteurs': ['Chieko Baishô', 'Takuya Kimura', 'Tatsuya Gashûin'], 'public': 'PG', 'durée': 119, 'description': 'When an unconfident young woman is cursed with an old body by a spiteful witch, her only chance of breaking the spell lies with a self-indulgent yet insecure young wizard and his companions in his legged, walking castle.', 'pays': ['Japan']}\n",
      "{'_id': ObjectId('639afcc36bf8070d50c155a8'), 'title': 'The Secret in Their Eyes', 'score': '8.2', 'genre': 'Drama', 'date': '2009', 'acteurs': ['Ricardo Darín', 'Soledad Villamil', 'Pablo Rago'], 'public': 'R', 'durée': 129, 'description': 'A retired legal counselor writes a novel hoping to find closure for one of his past unresolved homicide cases and for his unreciprocated love with his superior - both of which still haunt him decades later.', 'pays': ['Argentina', 'Spain']}\n",
      "{'_id': ObjectId('639afcc46bf8070d50c155a9'), 'title': 'Dial M for Murder', 'score': '8.2', 'genre': 'Crime', 'date': '1954', 'acteurs': ['Ray Milland', 'Grace Kelly', 'Robert Cummings'], 'public': 'PG', 'durée': 105, 'description': 'A former tennis star arranges the murder of his adulterous wife.', 'pays': ['United States']}\n",
      "{'_id': ObjectId('639afcc66bf8070d50c155aa'), 'title': 'Lock, Stock and Two Smoking Barrels', 'score': '8.2', 'genre': 'Action', 'date': '1998', 'acteurs': ['Jason Flemyng', 'Dexter Fletcher', 'Nick Moran'], 'public': 'R', 'durée': 107, 'description': 'Eddy persuades his three pals to pool money for a vital poker game against a powerful local mobster, Hatchet Harry. Eddy loses, after which Harry gives him a week to pay back 500,000 pounds.', 'pays': ['United Kingdom']}\n",
      "{'_id': ObjectId('639afcc76bf8070d50c155ab'), 'title': 'Inside Out', 'score': '8.2', 'genre': 'Animation', 'date': '2015', 'acteurs': ['Amy Poehler', 'Bill Hader', 'Lewis Black'], 'public': 'PG', 'durée': 95, 'description': 'After young Riley is uprooted from her Midwest life and moved to San Francisco, her emotions - Joy, Fear, Anger, Disgust and Sadness - conflict on how best to navigate a new city, house, and school.', 'pays': ['United States']}\n",
      "{'_id': ObjectId('639afcc86bf8070d50c155ac'), 'title': 'V for Vendetta', 'score': '8.2', 'genre': 'Action', 'date': '2005', 'acteurs': ['Hugo Weaving', 'Natalie Portman', 'Rupert Graves'], 'public': 'R', 'durée': 132, 'description': 'In a future British dystopian society, a shadowy freedom fighter, known only by the alias of \"V\", plots to overthrow the tyrannical government - with the help of a young woman.', 'pays': ['United States', 'United Kingdom', 'Germany']}\n",
      "{'_id': ObjectId('639afcc96bf8070d50c155ad'), 'title': 'Gone with the Wind', 'score': '8.2', 'genre': 'Drama', 'date': '1939', 'acteurs': ['Clark Gable', 'Vivien Leigh', 'Thomas Mitchell'], 'public': 'Passed', 'durée': 238, 'description': 'The manipulative daughter of a Georgia plantation owner conducts a turbulent romance with a roguish profiteer during the American Civil War and Reconstruction periods.', 'pays': []}\n",
      "{'_id': ObjectId('639afccb6bf8070d50c155ae'), 'title': 'Raging Bull', 'score': '8.2', 'genre': 'Biography', 'date': '1980', 'acteurs': ['Robert De Niro', 'Cathy Moriarty', 'Joe Pesci'], 'public': 'R', 'durée': 129, 'description': 'The life of boxer Jake LaMotta, whose violence and temper that led him to the top in the ring destroyed his life outside of it.', 'pays': ['United States']}\n",
      "{'_id': ObjectId('639afccb6bf8070d50c155af'), 'title': 'Chinatown', 'score': '8.2', 'genre': 'Drama', 'date': '1974', 'acteurs': ['Jack Nicholson', 'Faye Dunaway', 'John Huston'], 'public': 'R', 'durée': 130, 'description': 'A private detective hired to expose an adulterer in 1930s Los Angeles finds himself caught up in a web of deceit, corruption, and murder.', 'pays': ['United States']}\n",
      "{'_id': ObjectId('639afccd6bf8070d50c155b0'), 'title': 'The Elephant Man', 'score': '8.2', 'genre': 'Biography', 'date': '1980', 'acteurs': ['Anthony Hopkins', 'John Hurt', 'Anne Bancroft'], 'public': 'PG', 'durée': 124, 'description': 'A Victorian surgeon rescues a heavily disfigured man who is mistreated while scraping a living as a side-show freak. Behind his monstrous façade, there is revealed a person of kindness, intelligence and sophistication.', 'pays': ['United States', 'United Kingdom']}\n",
      "{'_id': ObjectId('639afccd6bf8070d50c155b1'), 'title': 'The Thing', 'score': '8.2', 'genre': 'Horror', 'date': '1982', 'acteurs': ['Kurt Russell', 'Wilford Brimley', 'Keith David'], 'public': 'R', 'durée': 109, 'description': 'A research team in Antarctica is hunted by a shape-shifting alien that assumes the appearance of its victims.', 'pays': ['United States', 'Canada']}\n",
      "{'_id': ObjectId('639afcce6bf8070d50c155b2'), 'title': 'Finding Nemo', 'score': '8.2', 'genre': 'Animation', 'date': '2003', 'acteurs': ['Albert Brooks', 'Ellen DeGeneres', 'Alexander Gould'], 'public': 'G', 'durée': 100, 'description': 'After his son is captured in the Great Barrier Reef and taken to Sydney, a timid clownfish sets out on a journey to bring him home.', 'pays': ['United States']}\n",
      "{'_id': ObjectId('639afcd06bf8070d50c155b3'), 'title': 'No Country for Old Men', 'score': '8.2', 'genre': 'Crime', 'date': '2007', 'acteurs': ['Tommy Lee Jones', 'Javier Bardem', 'Josh Brolin'], 'public': 'R', 'durée': 122, 'description': 'Violence and mayhem ensue after a hunter stumbles upon a drug deal gone wrong and more than two million dollars in cash near the Rio Grande.', 'pays': ['United States']}\n",
      "{'_id': ObjectId('639afcd16bf8070d50c155b4'), 'title': 'Kill Bill: Vol. 1', 'score': '8.2', 'genre': 'Action', 'date': '2003', 'acteurs': ['Uma Thurman', 'David Carradine', 'Daryl Hannah'], 'public': 'R', 'durée': 111, 'description': 'After awakening from a four-year coma, a former assassin wreaks vengeance on the team of assassins who betrayed her.', 'pays': ['United States', 'Color']}\n",
      "{'_id': ObjectId('639afcd36bf8070d50c155b5'), 'title': 'Rashomon', 'score': '8.2', 'genre': 'Crime', 'date': '1950', 'acteurs': ['Toshirô Mifune', 'Machiko Kyô', 'Masayuki Mori'], 'public': 'Not Rated', 'durée': 88, 'description': \"The rape of a bride and the murder of her samurai husband are recalled from the perspectives of a bandit, the bride, the samurai's ghost and a woodcutter.\", 'pays': ['Japan']}\n",
      "{'_id': ObjectId('639afcd46bf8070d50c155b6'), 'title': 'The Great Escape', 'score': '8.2', 'genre': 'Adventure', 'date': '1963', 'acteurs': ['Steve McQueen', 'James Garner', 'Richard Attenborough'], 'public': 'Approved', 'durée': 172, 'description': 'Allied prisoners of war plan for several hundred of their number to escape from a German camp during World War II.', 'pays': ['United States']}\n",
      "{'_id': ObjectId('639afcd56bf8070d50c155b7'), 'title': 'Jurassic Park', 'score': '8.2', 'genre': 'Action', 'date': '1993', 'acteurs': ['Sam Neill', 'Laura Dern', 'Jeff Goldblum'], 'public': 'PG-13', 'durée': 127, 'description': \"A pragmatic paleontologist touring an almost complete theme park on an island in Central America is tasked with protecting a couple of kids after a power failure causes the park's cloned dinosaurs to run loose.\", 'pays': ['United States']}\n",
      "{'_id': ObjectId('639afcd76bf8070d50c155b8'), 'title': 'The Treasure of the Sierra Madre', 'score': '8.2', 'genre': 'Adventure', 'date': '1948', 'acteurs': ['Humphrey Bogart', 'Walter Huston', 'Tim Holt'], 'public': 'Passed', 'durée': 126, 'description': 'Two down-on-their-luck Americans searching for work in 1920s Mexico convince an old prospector to help them mine for gold in the Sierra Madre Mountains.', 'pays': ['United States']}\n",
      "{'_id': ObjectId('639afcd76bf8070d50c155b9'), 'title': 'Spider-Man: No Way Home', 'score': '8.3', 'genre': 'Action', 'date': '2021', 'acteurs': ['Tom Holland', 'Zendaya', 'Benedict Cumberbatch'], 'public': 'PG-13', 'durée': 148, 'description': \"With Spider-Man's identity now revealed, Peter asks Doctor Strange for help. When a spell goes wrong, dangerous foes from other worlds start to appear, forcing Peter to discover what it truly means to be Spider-Man.\", 'pays': ['United States']}\n",
      "{'_id': ObjectId('639afcd86bf8070d50c155ba'), 'title': 'Monty Python and the Holy Grail', 'score': '8.2', 'genre': 'Adventure', 'date': '1975', 'acteurs': ['Graham Chapman', 'John Cleese', 'Eric Idle'], 'public': 'PG', 'durée': 91, 'description': 'King Arthur and his Knights of the Round Table embark on a surreal, low-budget search for the Holy Grail, encountering many, very silly obstacles.', 'pays': ['United Kingdom']}\n",
      "{'_id': ObjectId('639afcd96bf8070d50c155bb'), 'title': 'Yojimbo', 'score': '8.2', 'genre': 'Action', 'date': '1961', 'acteurs': ['Toshirô Mifune', 'Eijirô Tôno', 'Tatsuya Nakadai'], 'public': 'Not Rated', 'durée': 110, 'description': 'A crafty ronin comes to a town divided by two criminal gangs and decides to play them against each other to free the town.', 'pays': ['Japan']}\n",
      "{'_id': ObjectId('639afcdb6bf8070d50c155bc'), 'title': 'Shutter Island', 'score': '8.2', 'genre': 'Mystery', 'date': '2010', 'acteurs': ['Leonardo DiCaprio', 'Emily Mortimer', 'Mark Ruffalo'], 'public': 'R', 'durée': 138, 'description': 'In 1954, a U.S. Marshal investigates the disappearance of a murderer who escaped from a hospital for the criminally insane.', 'pays': ['United States']}\n",
      "{'_id': ObjectId('639afcdc6bf8070d50c155bd'), 'title': 'A Beautiful Mind', 'score': '8.2', 'genre': 'Biography', 'date': '2001', 'acteurs': ['Russell Crowe', 'Ed Harris', 'Jennifer Connelly'], 'public': 'PG-13', 'durée': 135, 'description': 'After John Nash, a brilliant but asocial mathematician, accepts secret work in cryptography, his life takes a turn for the nightmarish.', 'pays': ['United States']}\n",
      "{'_id': ObjectId('639afcdc6bf8070d50c155be'), 'title': 'The Sixth Sense', 'score': '8.2', 'genre': 'Drama', 'date': '1999', 'acteurs': ['Bruce Willis', 'Haley Joel Osment', 'Toni Collette'], 'public': 'PG-13', 'durée': 107, 'description': 'A frightened, withdrawn Philadelphia boy who communicates with spirits seeks the help of a disheartened child psychologist.', 'pays': ['United States']}\n",
      "{'_id': ObjectId('639afcde6bf8070d50c155bf'), 'title': 'The Truman Show', 'score': '8.2', 'genre': 'Comedy', 'date': '1998', 'acteurs': ['Jim Carrey', 'Ed Harris', 'Laura Linney'], 'public': 'PG', 'durée': 103, 'description': 'An insurance salesman discovers his whole life is actually a reality TV show.', 'pays': ['United States']}\n",
      "{'_id': ObjectId('639afcdf6bf8070d50c155c0'), 'title': 'There Will Be Blood', 'score': '8.2', 'genre': 'Drama', 'date': '2007', 'acteurs': ['Daniel Day-Lewis', 'Paul Dano', 'Ciarán Hinds'], 'public': 'R', 'durée': 158, 'description': 'A story of family, religion, hatred, oil and madness, focusing on a turn-of-the-century prospector in the early days of the business.', 'pays': ['United States']}\n",
      "{'_id': ObjectId('639afce06bf8070d50c155c1'), 'title': 'Unforgiven', 'score': '8.2', 'genre': 'Drama', 'date': '1992', 'acteurs': ['Clint Eastwood', 'Gene Hackman', 'Morgan Freeman'], 'public': 'R', 'durée': 130, 'description': 'Retired Old West gunslinger William Munny reluctantly takes on one last job, with the help of his old partner Ned Logan and a young man, The \"Schofield Kid.\"', 'pays': ['United States']}\n",
      "{'_id': ObjectId('639afce26bf8070d50c155c2'), 'title': \"Pan's Labyrinth\", 'score': '8.2', 'genre': 'Drama', 'date': '2006', 'acteurs': ['Ivana Baquero', 'Ariadna Gil', 'Sergi López'], 'public': 'R', 'durée': 118, 'description': 'In the Falangist Spain of 1944, the bookish young stepdaughter of a sadistic army officer escapes into an eerie but captivating fantasy world.', 'pays': ['Mexico', 'Spain']}\n",
      "{'_id': ObjectId('639afce36bf8070d50c155c3'), 'title': 'Casino', 'score': '8.2', 'genre': 'Crime', 'date': '1995', 'acteurs': ['Robert De Niro', 'Sharon Stone', 'Joe Pesci'], 'public': 'R', 'durée': 178, 'description': 'A tale of greed, deception, money, power, and murder occur between two best friends: a mafia enforcer and a casino executive compete against each other over a gambling empire, and over a fast-living and fast-loving socialite.', 'pays': ['United States', 'France']}\n",
      "{'_id': ObjectId('639afce46bf8070d50c155c4'), 'title': 'Ran', 'score': '8.2', 'genre': 'Action', 'date': '1985', 'acteurs': ['Tatsuya Nakadai', 'Akira Terao', 'Jinpachi Nezu'], 'public': 'R', 'durée': 162, 'description': 'In Medieval Japan, an elderly warlord retires, handing over his empire to his three sons. However, he vastly underestimates how the new-found power will corrupt them and cause them to turn on each other...and him.', 'pays': ['Japan', 'France']}\n",
      "{'_id': ObjectId('639afce66bf8070d50c155c5'), 'title': 'Judgment at Nuremberg', 'score': '8.3', 'genre': 'Drama', 'date': '1961', 'acteurs': ['Spencer Tracy', 'Burt Lancaster', 'Richard Widmark'], 'public': 'Approved', 'durée': 179, 'description': 'In 1948, an American court in occupied Germany tries four Nazis judged for war crimes.', 'pays': ['United States']}\n",
      "{'_id': ObjectId('639afce66bf8070d50c155c6'), 'title': 'The Wolf of Wall Street', 'score': '8.2', 'genre': 'Biography', 'date': '2013', 'acteurs': ['Leonardo DiCaprio', 'Jonah Hill', 'Margot Robbie'], 'public': 'R', 'durée': 3, 'description': 'Based on the true story of Jordan Belfort, from his rise to a wealthy stock-broker living the high life to his fall involving crime, corruption and the federal government.', 'pays': ['United States']}\n",
      "{'_id': ObjectId('639afce76bf8070d50c155c7'), 'title': 'Green Book', 'score': '8.2', 'genre': 'Biography', 'date': '2018', 'acteurs': ['Viggo Mortensen', 'Mahershala Ali', 'Linda Cardellini'], 'public': 'PG-13', 'durée': 130, 'description': 'A working-class Italian-American bouncer becomes the driver for an African-American classical pianist on a tour of venues through the 1960s American South.', 'pays': ['United States', 'China']}\n",
      "{'_id': ObjectId('639afce86bf8070d50c155c8'), 'title': 'All About Eve', 'score': '8.2', 'genre': 'Drama', 'date': '1950', 'acteurs': ['Bette Davis', 'Anne Baxter', 'George Sanders'], 'public': 'Passed', 'durée': 138, 'description': 'A seemingly timid but secretly ruthless ingénue insinuates herself into the lives of an aging Broadway star and her circle of theater friends.', 'pays': ['United States']}\n",
      "{'_id': ObjectId('639afce96bf8070d50c155c9'), 'title': 'The Father', 'score': '8.2', 'genre': 'Drama', 'date': '2020', 'acteurs': ['Anthony Hopkins', 'Olivia Colman', 'Mark Gatiss'], 'public': 'PG-13', 'durée': 97, 'description': 'A man refuses all assistance from his daughter as he ages. As he tries to make sense of his changing circumstances, he begins to doubt his loved ones, his own mind and even the fabric of his reality.', 'pays': ['United Kingdom', 'France', 'United States']}\n",
      "{'_id': ObjectId('639afcea6bf8070d50c155ca'), 'title': 'Some Like It Hot', 'score': '8.2', 'genre': 'Comedy', 'date': '1959', 'acteurs': ['Marilyn Monroe', 'Tony Curtis', 'Jack Lemmon'], 'public': 'Passed', 'durée': 121, 'description': 'After two male musicians witness a mob hit, they flee the state in an all-female band disguised as women, but further complications set in.', 'pays': ['United States']}\n",
      "{'_id': ObjectId('639afced6bf8070d50c155cb'), 'title': 'The Kid', 'score': '8.3', 'genre': 'Comedy', 'date': '1921', 'acteurs': ['Charles Chaplin', 'Edna Purviance', 'Jackie Coogan'], 'public': 'Passed', 'durée': 68, 'description': None, 'pays': ['United States']}\n",
      "{'_id': ObjectId('639afced6bf8070d50c155cc'), 'title': 'Batman Begins', 'score': '8.2', 'genre': 'Action', 'date': '2005', 'acteurs': ['Christian Bale', 'Michael Caine', 'Ken Watanabe'], 'public': 'PG-13', 'durée': 140, 'description': 'After training with his mentor, Batman begins his fight to free crime-ridden Gotham City from corruption.', 'pays': ['United States', 'United Kingdom']}\n",
      "{'_id': ObjectId('639afcee6bf8070d50c155cd'), 'title': 'Dangal', 'score': '8.3', 'genre': 'Action', 'date': '2016', 'acteurs': ['Aamir Khan', 'Sakshi Tanwar', 'Fatima Sana Shaikh'], 'public': 'Not Rated', 'durée': 161, 'description': 'Former wrestler Mahavir Singh Phogat and his two wrestler daughters struggle towards glory at the Commonwealth Games in the face of societal oppression.', 'pays': ['India', 'United States']}\n",
      "{'_id': ObjectId('639afcef6bf8070d50c155ce'), 'title': 'For a Few Dollars More', 'score': '8.2', 'genre': 'Western', 'date': '1965', 'acteurs': ['Clint Eastwood', 'Lee Van Cleef', 'Gian Maria Volontè'], 'public': 'R', 'durée': 132, 'description': 'Two bounty hunters with the same intentions team up to track down an escaped Mexican outlaw.', 'pays': ['Italy', 'Spain', 'West Germany']}\n",
      "{'_id': ObjectId('639afcf06bf8070d50c155cf'), 'title': 'Downfall', 'score': '8.2', 'genre': 'Biography', 'date': '2004', 'acteurs': ['Bruno Ganz', 'Alexandra Maria Lara', 'Ulrich Matthes'], 'public': 'R', 'durée': 156, 'description': None, 'pays': ['Germany', 'Austria', 'Italy']}\n",
      "{'_id': ObjectId('639afcf26bf8070d50c155d0'), 'title': '1917', 'score': '8.2', 'genre': 'Action', 'date': '2019', 'acteurs': ['Dean-Charles Chapman', 'George MacKay', 'Daniel Mays'], 'public': 'R', 'durée': 119, 'description': 'April 6th, 1917. As an infantry battalion assembles to wage war deep in enemy territory, two soldiers are assigned to race against time and deliver a message that will stop 1,600 men from walking straight into a deadly trap.', 'pays': ['United Kingdom', 'United States', 'India', 'Spain']}\n",
      "{'_id': ObjectId('639afcf36bf8070d50c155d1'), 'title': 'Like Stars on Earth', 'score': '8.4', 'genre': 'Drama', 'date': '2007', 'acteurs': ['Darsheel Safary', 'Aamir Khan', 'Tisca Chopra'], 'public': 'PG', 'durée': 165, 'description': 'An eight-year-old boy is thought to be a lazy trouble-maker, until the new art teacher has the patience and compassion to discover the real problem behind his struggles in school.', 'pays': ['India']}\n",
      "{'_id': ObjectId('639afcf46bf8070d50c155d2'), 'title': 'Indiana Jones and the Last Crusade', 'score': '8.2', 'genre': 'Action', 'date': '1989', 'acteurs': ['Harrison Ford', 'Sean Connery', 'Alison Doody'], 'public': 'PG-13', 'durée': 127, 'description': 'In 1938, after his father Professor Henry Jones, Sr. goes missing while pursuing the Holy Grail, Professor Henry \"Indiana\" Jones, Jr. finds himself up against Adolf Hitler\\'s Nazis again to stop them from obtaining its powers.', 'pays': ['United States']}\n",
      "{'_id': ObjectId('639afcf66bf8070d50c155d3'), 'title': 'Bicycle Thieves', 'score': '8.3', 'genre': 'Drama', 'date': '1948', 'acteurs': ['Lamberto Maggiorani', 'Enzo Staiola', 'Lianella Carell'], 'public': 'Not Rated', 'durée': 89, 'description': \"In post-war Italy, a working-class man's bicycle is stolen, endangering his efforts to find work. He and his son set out to find it.\", 'pays': ['Italy']}\n",
      "{'_id': ObjectId('639afcf76bf8070d50c155d4'), 'title': 'Snatch', 'score': '8.2', 'genre': 'Comedy', 'date': '2000', 'acteurs': ['Jason Statham', 'Brad Pitt', 'Stephen Graham'], 'public': 'R', 'durée': 102, 'description': 'Unscrupulous boxing promoters, violent bookmakers, a Russian gangster, incompetent amateur robbers and supposedly Jewish jewelers fight to track down a priceless stolen diamond.', 'pays': ['United Kingdom', 'United States']}\n",
      "{'_id': ObjectId('639afcf86bf8070d50c155d5'), 'title': 'Die Hard', 'score': '8.2', 'genre': 'Action', 'date': '1988', 'acteurs': ['Bruce Willis', 'Alan Rickman', 'Bonnie Bedelia'], 'public': 'R', 'durée': 132, 'description': 'A New York City police officer tries to save his estranged wife and several others taken hostage by terrorists during a Christmas party at the Nakatomi Plaza in Los Angeles.', 'pays': ['United States']}\n",
      "{'_id': ObjectId('639afcf96bf8070d50c155d6'), 'title': 'L.A. Confidential', 'score': '8.2', 'genre': 'Crime', 'date': '1997', 'acteurs': ['Kevin Spacey', 'Russell Crowe', 'Guy Pearce'], 'public': 'R', 'durée': 138, 'description': 'As corruption grows in 1950s Los Angeles, three policemen - one strait-laced, one brutal, and one sleazy - investigate a series of murders with their own brand of justice.', 'pays': ['United States']}\n",
      "{'_id': ObjectId('639afcfb6bf8070d50c155d7'), 'title': 'Metropolis', 'score': '8.3', 'genre': 'Drama', 'date': '1927', 'acteurs': ['Brigitte Helm', 'Alfred Abel', 'Gustav Fröhlich'], 'public': 'Not Rated', 'durée': 153, 'description': \"In a futuristic city sharply divided between the working class and the city planners, the son of the city's mastermind falls in love with a working-class prophet who predicts the coming of a savior to mediate their differences.\", 'pays': ['Germany']}\n",
      "{'_id': ObjectId('639afcfb6bf8070d50c155d8'), 'title': 'A Separation', 'score': '8.3', 'genre': 'Drama', 'date': '2011', 'acteurs': ['Payman Maadi', 'Leila Hatami', 'Sareh Bayat'], 'public': 'PG-13', 'durée': 123, 'description': \"A married couple are faced with a difficult decision - to improve the life of their child by moving to another country or to stay in Iran and look after a deteriorating parent who has Alzheimer's disease.\", 'pays': ['Iran', 'France', 'Australia']}\n",
      "{'_id': ObjectId('639afcfd6bf8070d50c155d9'), 'title': 'Taxi Driver', 'score': '8.2', 'genre': 'Crime', 'date': '1976', 'acteurs': ['Robert De Niro', 'Jodie Foster', 'Cybill Shepherd'], 'public': 'R', 'durée': 114, 'description': 'A mentally unstable veteran works as a nighttime taxi driver in New York City, where the perceived decadence and sleaze fuels his urge for violent action.', 'pays': ['United States', 'Stereo']}\n",
      "{'_id': ObjectId('639afcff6bf8070d50c155da'), 'title': 'Heat', 'score': '8.3', 'genre': 'Action', 'date': '1995', 'acteurs': ['Al Pacino', 'Robert De Niro', 'Val Kilmer'], 'public': 'R', 'durée': 170, 'description': 'A group of high-end professional thieves start to feel the heat from the LAPD when they unknowingly leave a clue at their latest heist.', 'pays': ['United States']}\n",
      "{'_id': ObjectId('639afd006bf8070d50c155db'), 'title': 'Up', 'score': '8.3', 'genre': 'Animation', 'date': '2009', 'acteurs': ['Edward Asner', 'Jordan Nagai', 'John Ratzenberger'], 'public': 'PG', 'durée': 96, 'description': '78-year-old Carl Fredricksen travels to Paradise Falls in his house equipped with balloons, inadvertently taking a young stowaway.', 'pays': ['United States']}\n",
      "{'_id': ObjectId('639afd006bf8070d50c155dc'), 'title': 'Incendies', 'score': '8.3', 'genre': 'Drama', 'date': '2010', 'acteurs': ['Lubna Azabal', 'Mélissa Désormeaux-Poulin', 'Maxim Gaudette'], 'public': 'R', 'durée': 131, 'description': \"Twins journey to the Middle East to discover their family history and fulfill their mother's last wishes.\", 'pays': ['Canada', 'France']}\n",
      "{'_id': ObjectId('639afd026bf8070d50c155dd'), 'title': 'The Sting', 'score': '8.3', 'genre': 'Comedy', 'date': '1973', 'acteurs': ['Paul Newman', 'Robert Redford', 'Robert Shaw'], 'public': 'PG', 'durée': 129, 'description': 'Two grifters team up to pull off the ultimate con.', 'pays': ['United States']}\n",
      "{'_id': ObjectId('639afd036bf8070d50c155de'), 'title': 'To Kill a Mockingbird', 'score': '8.3', 'genre': 'Crime', 'date': '1962', 'acteurs': ['Gregory Peck', 'John Megna', 'Frank Overton'], 'public': 'Approved', 'durée': 129, 'description': 'Atticus Finch, a widowed lawyer in Depression-era Alabama, defends a black man against an undeserved rape charge, and his children against prejudice.', 'pays': ['United States']}\n",
      "{'_id': ObjectId('639afd046bf8070d50c155df'), 'title': 'Scarface', 'score': '8.3', 'genre': 'Crime', 'date': '1983', 'acteurs': ['Al Pacino', 'Michelle Pfeiffer', 'Steven Bauer'], 'public': 'R', 'durée': 170, 'description': 'In 1980 Miami, a determined Cuban immigrant takes over a drug cartel and succumbs to greed.', 'pays': ['United States']}\n",
      "{'_id': ObjectId('639afd056bf8070d50c155e0'), 'title': 'Hamilton', 'score': '8.4', 'genre': 'Biography', 'date': '2020', 'acteurs': ['Lin-Manuel Miranda', 'Phillipa Soo', 'Leslie Odom Jr.'], 'public': 'PG-13', 'durée': 160, 'description': \"The real life of one of America's foremost founding fathers and first Secretary of the Treasury, Alexander Hamilton. Captured live on Broadway from the Richard Rodgers Theater with the original Broadway cast.\", 'pays': ['United States']}\n",
      "{'_id': ObjectId('639afd066bf8070d50c155e1'), 'title': 'Full Metal Jacket', 'score': '8.3', 'genre': 'Drama', 'date': '1987', 'acteurs': ['Matthew Modine', 'R. Lee Ermey', \"Vincent D'Onofrio\"], 'public': 'R', 'durée': 116, 'description': 'A pragmatic U.S. Marine observes the dehumanizing effects the Vietnam War has on his fellow recruits from their brutal boot camp training to the bloody street fighting in Hue.', 'pays': ['United Kingdom', 'United States']}\n",
      "{'_id': ObjectId('639afd086bf8070d50c155e2'), 'title': 'Double Indemnity', 'score': '8.3', 'genre': 'Crime', 'date': '1944', 'acteurs': ['Fred MacMurray', 'Barbara Stanwyck', 'Edward G. Robinson'], 'public': 'Passed', 'durée': 107, 'description': 'A Los Angeles insurance representative lets an alluring housewife seduce him into a scheme of insurance fraud and murder that arouses the suspicion of his colleague, an insurance investigator.', 'pays': ['United States']}\n",
      "{'_id': ObjectId('639afd096bf8070d50c155e3'), 'title': 'Ikiru', 'score': '8.3', 'genre': 'Drama', 'date': '1952', 'acteurs': ['Takashi Shimura', 'Nobuo Kaneko', \"Shin'ichi Himori\"], 'public': 'Not Rated', 'durée': 143, 'description': 'A bureaucrat tries to find meaning in his life after he discovers he has terminal cancer.', 'pays': ['Japan']}\n",
      "{'_id': ObjectId('639afd0b6bf8070d50c155e4'), 'title': 'The Apartment', 'score': '8.3', 'genre': 'Comedy', 'date': '1960', 'acteurs': ['Jack Lemmon', 'Shirley MacLaine', 'Fred MacMurray'], 'public': 'Approved', 'durée': 125, 'description': 'A Manhattan insurance clerk tries to rise in his company by letting its executives use his apartment for trysts, but complications and a romance of his own ensue.', 'pays': ['United States']}\n",
      "{'_id': ObjectId('639afd0c6bf8070d50c155e5'), 'title': 'A Clockwork Orange', 'score': '8.3', 'genre': 'Crime', 'date': '1971', 'acteurs': ['Malcolm McDowell', 'Patrick Magee', 'Michael Bates'], 'public': 'X', 'durée': 136, 'description': \"In the future, a sadistic gang leader is imprisoned and volunteers for a conduct-aversion experiment, but it doesn't go as planned.\", 'pays': ['United Kingdom', 'United States', 'Color']}\n",
      "{'_id': ObjectId('639afd0d6bf8070d50c155e6'), 'title': 'Amélie', 'score': '8.3', 'genre': 'Comedy', 'date': '2001', 'acteurs': ['Audrey Tautou', 'Mathieu Kassovitz', 'Rufus'], 'public': 'R', 'durée': 122, 'description': 'Amélie is an innocent and naive girl in Paris with her own sense of justice. She decides to help those around her and, along the way, discovers love.', 'pays': ['France', 'Germany', 'Color']}\n",
      "{'_id': ObjectId('639afd0f6bf8070d50c155e7'), 'title': 'Vertigo', 'score': '8.3', 'genre': 'Mystery', 'date': '1958', 'acteurs': ['James Stewart', 'Kim Novak', 'Barbara Bel Geddes'], 'public': 'PG', 'durée': 128, 'description': 'A former San Francisco police detective juggles wrestling with his personal demons and becoming obsessed with the hauntingly beautiful woman he has been hired to trail, who may be deeply disturbed.', 'pays': ['United States']}\n",
      "{'_id': ObjectId('639afd106bf8070d50c155e8'), 'title': 'North by Northwest', 'score': '8.3', 'genre': 'Action', 'date': '1959', 'acteurs': ['Cary Grant', 'Eva Marie Saint', 'James Mason'], 'public': 'Approved', 'durée': 136, 'description': 'A New York City advertising executive goes on the run after being mistaken for a government agent by a group of foreign spies, and falls for a woman whose loyalties he begins to doubt.', 'pays': ['United States']}\n",
      "{'_id': ObjectId('639afd126bf8070d50c155e9'), 'title': 'Lawrence of Arabia', 'score': '8.3', 'genre': 'Adventure', 'date': '1962', 'acteurs': [\"Peter O'Toole\", 'Alec Guinness', 'Anthony Quinn'], 'public': 'Approved', 'durée': 218, 'description': 'The story of T.E. Lawrence, the English officer who successfully united and led the diverse, often warring, Arab tribes during World War I in order to fight the Turks.', 'pays': ['United Kingdom']}\n",
      "{'_id': ObjectId('639afd136bf8070d50c155ea'), 'title': 'M', 'score': '8.3', 'genre': 'Crime', 'date': '1931', 'acteurs': ['Peter Lorre', 'Ellen Widmann', 'Inge Landgut'], 'public': 'Passed', 'durée': 99, 'description': 'When the police in a German city are unable to catch a child-murderer, other criminals join in the manhunt.', 'pays': ['Germany']}\n",
      "{'_id': ObjectId('639afd146bf8070d50c155eb'), 'title': 'Citizen Kane', 'score': '8.3', 'genre': 'Drama', 'date': '1941', 'acteurs': ['Orson Welles', 'Joseph Cotten', 'Dorothy Comingore'], 'public': 'PG', 'durée': 119, 'description': \"Following the death of publishing tycoon Charles Foster Kane, reporters scramble to uncover the meaning of his final utterance: 'Rosebud.'\", 'pays': ['United States']}\n",
      "{'_id': ObjectId('639afd166bf8070d50c155ec'), 'title': 'Come and See', 'score': '8.4', 'genre': 'Drama', 'date': '1985', 'acteurs': ['Aleksey Kravchenko', 'Olga Mironova', 'Liubomiras Laucevicius'], 'public': 'Not Rated', 'durée': 142, 'description': 'After finding an old rifle, a young boy joins the Soviet resistance movement against ruthless German forces and experiences the horrors of World War II.', 'pays': ['Soviet Union']}\n",
      "{'_id': ObjectId('639afd166bf8070d50c155ed'), 'title': 'The Hunt', 'score': '8.3', 'genre': 'Drama', 'date': '2012', 'acteurs': ['Mads Mikkelsen', 'Thomas Bo Larsen', 'Annika Wedderkopp'], 'public': 'R', 'durée': 115, 'description': \"A teacher lives a lonely life, all the while struggling over his son's custody. His life slowly gets better as he finds love and receives good news from his son, but his new luck is about to be brutally shattered by an innocent little lie.\", 'pays': ['Denmark', 'Sweden']}\n",
      "{'_id': ObjectId('639afd186bf8070d50c155ee'), 'title': 'Reservoir Dogs', 'score': '8.3', 'genre': 'Crime', 'date': '1992', 'acteurs': ['Harvey Keitel', 'Tim Roth', 'Michael Madsen'], 'public': 'R', 'durée': 99, 'description': 'When a simple jewelry heist goes horribly wrong, the surviving criminals begin to suspect that one of them is a police informant.', 'pays': ['United States']}\n",
      "{'_id': ObjectId('639afd196bf8070d50c155ef'), 'title': 'Eternal Sunshine of the Spotless Mind', 'score': '8.3', 'genre': 'Drama', 'date': '2004', 'acteurs': ['Jim Carrey', 'Kate Winslet', 'Tom Wilkinson'], 'public': 'R', 'durée': 108, 'description': 'When their relationship turns sour, a couple undergoes a medical procedure to have each other erased from their memories for ever.', 'pays': ['United States']}\n",
      "{'_id': ObjectId('639afd1b6bf8070d50c155f0'), 'title': '2001: A Space Odyssey', 'score': '8.3', 'genre': 'Adventure', 'date': '1968', 'acteurs': ['Keir Dullea', 'Gary Lockwood', 'William Sylvester'], 'public': 'G', 'durée': 149, 'description': 'After uncovering a mysterious artifact buried beneath the Lunar surface, a spacecraft is sent to Jupiter to find its origins - a spacecraft manned by two men and the supercomputer H.A.L. 9000.', 'pays': ['United Kingdom', 'United States']}\n",
      "{'_id': ObjectId('639afd1b6bf8070d50c155f1'), 'title': 'Capernaum', 'score': '8.4', 'genre': 'Drama', 'date': '2018', 'acteurs': ['Zain Al Rafeea', 'Yordanos Shiferaw', 'Boluwatife Treasure Bankole'], 'public': 'R', 'durée': 126, 'description': 'While serving a five-year sentence for a violent crime, a 12-year-old boy sues his parents for neglect.', 'pays': ['Lebanon', 'France', 'Cyprus', 'Qatar', 'United Kingdom']}\n",
      "{'_id': ObjectId('639afd1c6bf8070d50c155f2'), 'title': 'Star Wars: Episode VI - Return of the Jedi', 'score': '8.3', 'genre': 'Action', 'date': '1983', 'acteurs': ['Mark Hamill', 'Harrison Ford', 'Carrie Fisher'], 'public': 'PG', 'durée': 131, 'description': \"After a daring mission to rescue Han Solo from Jabba the Hutt, the Rebels dispatch to Endor to destroy the second Death Star. Meanwhile, Luke struggles to help Darth Vader back from the dark side without falling into the Emperor's trap.\", 'pays': ['United States']}\n",
      "{'_id': ObjectId('639afd1e6bf8070d50c155f3'), 'title': 'High and Low', 'score': '8.4', 'genre': 'Crime', 'date': '1963', 'acteurs': ['Toshirô Mifune', 'Yutaka Sada', 'Tatsuya Nakadai'], 'public': 'Not Rated', 'durée': 143, 'description': \"An executive of a Yokohama shoe company becomes a victim of extortion when his chauffeur's son is kidnapped by mistake and held for ransom.\", 'pays': ['Japan']}\n",
      "{'_id': ObjectId('639afd1f6bf8070d50c155f4'), 'title': 'Toy Story 3', 'score': '8.3', 'genre': 'Animation', 'date': '2010', 'acteurs': ['Tom Hanks', 'Tim Allen', 'Joan Cusack'], 'public': 'G', 'durée': 103, 'description': \"The toys are mistakenly delivered to a day-care center instead of the attic right before Andy leaves for college, and it's up to Woody to convince the other toys that they weren't abandoned and to return home.\", 'pays': ['United States']}\n",
      "{'_id': ObjectId('639afd216bf8070d50c155f5'), 'title': \"Singin' in the Rain\", 'score': '8.3', 'genre': 'Comedy', 'date': '1952', 'acteurs': ['Gene Kelly', \"Donald O'Connor\", 'Debbie Reynolds'], 'public': 'G', 'durée': 103, 'description': 'A silent film star falls for a chorus girl just as he and his delusionally jealous screen partner are trying to make the difficult transition to talking pictures in 1920s Hollywood.', 'pays': ['United States', 'Color']}\n",
      "{'_id': ObjectId('639afd216bf8070d50c155f6'), 'title': '3 Idiots', 'score': '8.4', 'genre': 'Comedy', 'date': '2009', 'acteurs': ['Aamir Khan', 'Madhavan', 'Mona Singh'], 'public': 'PG-13', 'durée': 170, 'description': 'Two friends are searching for their long lost companion. They revisit their college days and recall the memories of their friend who inspired them to think differently, even as the rest of the world called them \"idiots\".', 'pays': ['India']}\n",
      "{'_id': ObjectId('639afd236bf8070d50c155f7'), 'title': 'Requiem for a Dream', 'score': '8.3', 'genre': 'Drama', 'date': '2000', 'acteurs': ['Ellen Burstyn', 'Jared Leto', 'Jennifer Connelly'], 'public': 'Unrated', 'durée': 102, 'description': 'The drug-induced utopias of four Coney Island people are shattered when their addictions run deep.', 'pays': ['United States']}\n",
      "{'_id': ObjectId('639afd246bf8070d50c155f8'), 'title': 'Top Gun: Maverick', 'score': '8.4', 'genre': 'Action', 'date': '2022', 'acteurs': ['Tom Cruise', 'Jennifer Connelly', 'Miles Teller'], 'public': 'PG-13', 'durée': 130, 'description': \"After thirty years, Maverick is still pushing the envelope as a top naval aviator, but must confront ghosts of his past when he leads TOP GUN's elite graduates on a mission that demands the ultimate sacrifice from those chosen to fly it.\", 'pays': ['United States']}\n",
      "{'_id': ObjectId('639afd256bf8070d50c155f9'), 'title': 'Your Name.', 'score': '8.4', 'genre': 'Animation', 'date': '2016', 'acteurs': ['Ryûnosuke Kamiki', 'Mone Kamishiraishi', 'Ryô Narita'], 'public': 'TV-PG', 'durée': 106, 'description': 'Two strangers find themselves linked in a bizarre way. When a connection forms, will distance be the only thing to keep them apart?', 'pays': ['Japan']}\n",
      "{'_id': ObjectId('639afd266bf8070d50c155fa'), 'title': 'Good Will Hunting', 'score': '8.3', 'genre': 'Drama', 'date': '1997', 'acteurs': ['Robin Williams', 'Matt Damon', 'Ben Affleck'], 'public': 'R', 'durée': 126, 'description': 'Will Hunting, a janitor at M.I.T., has a gift for mathematics, but needs help from a psychologist to find direction in his life.', 'pays': ['United States']}\n",
      "{'_id': ObjectId('639afd276bf8070d50c155fb'), 'title': 'Once Upon a Time in America', 'score': '8.3', 'genre': 'Crime', 'date': '1984', 'acteurs': ['Robert De Niro', 'James Woods', 'Elizabeth McGovern'], 'public': 'R', 'durée': 229, 'description': 'A former Prohibition-era Jewish gangster returns to the Lower East Side of Manhattan 35 years later, where he must once again confront the ghosts and regrets of his old life.', 'pays': ['Italy', 'United States']}\n",
      "{'_id': ObjectId('639afd286bf8070d50c155fc'), 'title': 'Princess Mononoke', 'score': '8.4', 'genre': 'Animation', 'date': '1997', 'acteurs': ['Yôji Matsuda', 'Yuriko Ishida', 'Yûko Tanaka'], 'public': 'PG-13', 'durée': 134, 'description': \"On a journey to find the cure for a Tatarigami's curse, Ashitaka finds himself in the middle of a war between the forest gods and Tatara, a mining colony. In this quest he also meets San, the Mononoke Hime.\", 'pays': ['Japan']}\n",
      "{'_id': ObjectId('639afd2a6bf8070d50c155fd'), 'title': 'Avengers: Endgame', 'score': '8.4', 'genre': 'Action', 'date': '2019', 'acteurs': ['Robert Downey Jr.', 'Chris Evans', 'Mark Ruffalo'], 'public': 'PG-13', 'durée': 181, 'description': \"After the devastating events of Avengers: Infinity War (2018), the universe is in ruins. With the help of remaining allies, the Avengers assemble once more in order to reverse Thanos' actions and restore balance to the universe.\", 'pays': ['United States', 'Dolby Atmos', 'Auro 11.1', 'Dolby Surround 7.1', 'Dolby Digital', 'Sonics-DDP', '12-Track Digital Sound', 'IMAX 6-Track']}\n",
      "{'_id': ObjectId('639afd2c6bf8070d50c155fe'), 'title': 'Braveheart', 'score': '8.4', 'genre': 'Biography', 'date': '1995', 'acteurs': ['Mel Gibson', 'Sophie Marceau', 'Patrick McGoohan'], 'public': 'R', 'durée': 178, 'description': 'Scottish warrior William Wallace leads his countrymen in a rebellion to free his homeland from the tyranny of King Edward I of England.', 'pays': ['United States']}\n",
      "{'_id': ObjectId('639afd2d6bf8070d50c155ff'), 'title': 'Toy Story', 'score': '8.3', 'genre': 'Animation', 'date': '1995', 'acteurs': ['Tom Hanks', 'Tim Allen', 'Don Rickles'], 'public': 'G', 'durée': 81, 'description': \"A cowboy doll is profoundly threatened and jealous when a new spaceman action figure supplants him as top toy in a boy's bedroom.\", 'pays': ['United States', 'Dolby Digital', 'DTS-ES', 'Dolby', 'SDDS', 'Dolby Digital EX']}\n",
      "{'_id': ObjectId('639afd2e6bf8070d50c15600'), 'title': 'Coco', 'score': '8.4', 'genre': 'Animation', 'date': '2017', 'acteurs': ['Anthony Gonzalez', 'Gael García Bernal', 'Benjamin Bratt'], 'public': 'PG', 'durée': 105, 'description': \"Aspiring musician Miguel, confronted with his family's ancestral ban on music, enters the Land of the Dead to find his great-great-grandfather, a legendary singer.\", 'pays': ['United States']}\n",
      "{'_id': ObjectId('639afd306bf8070d50c15601'), 'title': 'Joker', 'score': '8.4', 'genre': 'Crime', 'date': '2019', 'acteurs': ['Joaquin Phoenix', 'Robert De Niro', 'Zazie Beetz'], 'public': 'R', 'durée': 122, 'description': 'A mentally troubled stand-up comedian embarks on a downward spiral that leads to the creation of an iconic villain.', 'pays': ['United States', 'Canada']}\n",
      "{'_id': ObjectId('639afd316bf8070d50c15602'), 'title': 'Inglourious Basterds', 'score': '8.3', 'genre': 'Adventure', 'date': '2009', 'acteurs': ['Brad Pitt', 'Diane Kruger', 'Eli Roth'], 'public': 'R', 'durée': 153, 'description': \"In Nazi-occupied France during World War II, a plan to assassinate Nazi leaders by a group of Jewish U.S. soldiers coincides with a theatre owner's vengeful plans for the same.\", 'pays': ['Germany', 'United States']}\n",
      "{'_id': ObjectId('639afd336bf8070d50c15603'), 'title': 'Amadeus', 'score': '8.4', 'genre': 'Biography', 'date': '1984', 'acteurs': ['F. Murray Abraham', 'Tom Hulce', 'Elizabeth Berridge'], 'public': 'PG', 'durée': 160, 'description': \"The life, success and troubles of Wolfgang Amadeus Mozart, as told by Antonio Salieri, the contemporaneous composer who was deeply jealous of Mozart's talent and claimed to have murdered him.\", 'pays': ['United States', 'France', 'Italy']}\n",
      "{'_id': ObjectId('639afd346bf8070d50c15604'), 'title': 'Oldboy', 'score': '8.4', 'genre': 'Action', 'date': '2003', 'acteurs': ['Choi Min-sik', 'Yoo Ji-tae', 'Kang Hye-jeong'], 'public': 'R', 'durée': 2, 'description': 'After being kidnapped and imprisoned for fifteen years, Oh Dae-Su is released, only to find that he must find his captor in five days.', 'pays': ['South Korea']}\n",
      "{'_id': ObjectId('639afd356bf8070d50c15605'), 'title': 'The Dark Knight Rises', 'score': '8.4', 'genre': 'Action', 'date': '2012', 'acteurs': ['Christian Bale', 'Tom Hardy', 'Anne Hathaway'], 'public': 'PG-13', 'durée': 164, 'description': \"Eight years after the Joker's reign of anarchy, Batman, with the help of the enigmatic Selina Kyle, is forced from his exile to save Gotham City from the brutal guerrilla terrorist Bane.\", 'pays': ['United States', 'United Kingdom']}\n",
      "{'_id': ObjectId('639afd376bf8070d50c15606'), 'title': 'Dr. Strangelove or: How I Learned to Stop Worrying and Love the Bomb', 'score': '8.4', 'genre': 'Comedy', 'date': '1964', 'acteurs': ['Peter Sellers', 'George C. Scott', 'Sterling Hayden'], 'public': 'PG', 'durée': 95, 'description': 'An insane American general orders a bombing attack on the Soviet Union, triggering a path to nuclear holocaust that a war room full of politicians and generals frantically tries to stop.', 'pays': ['United Kingdom', 'United States']}\n",
      "{'_id': ObjectId('639afd376bf8070d50c15607'), 'title': 'American Beauty', 'score': '8.4', 'genre': 'Drama', 'date': '1999', 'acteurs': ['Kevin Spacey', 'Annette Bening', 'Thora Birch'], 'public': 'R', 'durée': 122, 'description': \"A sexually frustrated suburban father has a mid-life crisis after becoming infatuated with his daughter's best friend.\", 'pays': ['United States', 'Color']}\n",
      "{'_id': ObjectId('639afd396bf8070d50c15608'), 'title': 'Spider-Man: Into the Spider-Verse', 'score': '8.4', 'genre': 'Animation', 'date': '2018', 'acteurs': ['Shameik Moore', 'Jake Johnson', 'Hailee Steinfeld'], 'public': 'PG', 'durée': 117, 'description': 'Teen Miles Morales becomes the Spider-Man of his universe, and must join with five spider-powered individuals from other dimensions to stop a threat for all realities.', 'pays': ['United States']}\n",
      "{'_id': ObjectId('639afd3a6bf8070d50c15609'), 'title': 'Aliens', 'score': '8.4', 'genre': 'Action', 'date': '1986', 'acteurs': ['Sigourney Weaver', 'Michael Biehn', 'Carrie Henn'], 'public': 'R', 'durée': 137, 'description': 'Fifty-seven years after surviving an apocalyptic attack aboard her space vessel by merciless space creatures, Officer Ripley awakens from hyper-sleep and tries to warn anyone who will listen about the predators.', 'pays': ['United Kingdom', 'United States']}\n",
      "{'_id': ObjectId('639afd3b6bf8070d50c1560a'), 'title': 'Witness for the Prosecution', 'score': '8.4', 'genre': 'Crime', 'date': '1957', 'acteurs': ['Tyrone Power', 'Marlene Dietrich', 'Charles Laughton'], 'public': 'Approved', 'durée': 116, 'description': 'A veteran British barrister must defend his client in a murder trial that has surprise after surprise.', 'pays': ['United States']}\n",
      "{'_id': ObjectId('639afd3c6bf8070d50c1560b'), 'title': 'Avengers: Infinity War', 'score': '8.4', 'genre': 'Action', 'date': '2018', 'acteurs': ['Robert Downey Jr.', 'Chris Hemsworth', 'Mark Ruffalo'], 'public': 'PG-13', 'durée': 149, 'description': 'The Avengers and their allies must be willing to sacrifice all in an attempt to defeat the powerful Thanos before his blitz of devastation and ruin puts an end to the universe.', 'pays': ['United States', 'IMAX 6-Track', 'Dolby Surround 7.1', 'Dolby Digital', 'Dolby Atmos', 'Sonics-DDP']}\n",
      "{'_id': ObjectId('639afd3e6bf8070d50c1560c'), 'title': 'The Great Dictator', 'score': '8.4', 'genre': 'Comedy', 'date': '1940', 'acteurs': ['Charles Chaplin', 'Paulette Goddard', 'Jack Oakie'], 'public': 'G', 'durée': 125, 'description': \"Dictator Adenoid Hynkel tries to expand his empire while a poor Jewish barber tries to avoid persecution from Hynkel's regime.\", 'pays': ['United States']}\n",
      "{'_id': ObjectId('639afd3f6bf8070d50c1560d'), 'title': 'The Shining', 'score': '8.4', 'genre': 'Drama', 'date': '1980', 'acteurs': ['Jack Nicholson', 'Shelley Duvall', 'Danny Lloyd'], 'public': 'R', 'durée': 146, 'description': 'A family heads to an isolated hotel for the winter where a sinister presence influences the father into violence, while his psychic son sees horrific forebodings from both past and future.', 'pays': ['United Kingdom', 'United States']}\n",
      "{'_id': ObjectId('639afd406bf8070d50c1560e'), 'title': 'Paths of Glory', 'score': '8.4', 'genre': 'Drama', 'date': '1957', 'acteurs': ['Kirk Douglas', 'Ralph Meeker', 'Adolphe Menjou'], 'public': 'Approved', 'durée': 88, 'description': 'After refusing to attack an enemy position, a general accuses the soldiers of cowardice and their commanding officer must defend them.', 'pays': ['United States']}\n",
      "{'_id': ObjectId('639afd426bf8070d50c1560f'), 'title': 'Sunset Blvd.', 'score': '8.4', 'genre': 'Drama', 'date': '1950', 'acteurs': ['William Holden', 'Gloria Swanson', 'Erich von Stroheim'], 'public': 'Passed', 'durée': 110, 'description': 'A screenwriter develops a dangerous relationship with a faded film star determined to make a triumphant return.', 'pays': ['United States']}\n",
      "{'_id': ObjectId('639afd436bf8070d50c15610'), 'title': 'The Lives of Others', 'score': '8.4', 'genre': 'Drama', 'date': '2006', 'acteurs': ['Ulrich Mühe', 'Martina Gedeck', 'Sebastian Koch'], 'public': 'R', 'durée': 137, 'description': None, 'pays': ['Germany', 'France']}\n",
      "{'_id': ObjectId('639afd446bf8070d50c15611'), 'title': 'WALL·E', 'score': '8.4', 'genre': 'Animation', 'date': '2008', 'acteurs': ['Ben Burtt', 'Elissa Knight', 'Jeff Garlin'], 'public': 'G', 'durée': 98, 'description': 'In the distant future, a small waste-collecting robot inadvertently embarks on a space journey that will ultimately decide the fate of mankind.', 'pays': ['United States']}\n",
      "{'_id': ObjectId('639afd456bf8070d50c15612'), 'title': 'Django Unchained', 'score': '8.4', 'genre': 'Drama', 'date': '2012', 'acteurs': ['Jamie Foxx', 'Christoph Waltz', 'Leonardo DiCaprio'], 'public': 'R', 'durée': 165, 'description': 'With the help of a German bounty-hunter, a freed slave sets out to rescue his wife from a brutal plantation-owner in Mississippi.', 'pays': ['United States']}\n",
      "{'_id': ObjectId('639afd476bf8070d50c15613'), 'title': 'Indiana Jones and the Raiders of the Lost Ark', 'score': '8.4', 'genre': 'Action', 'date': '1981', 'acteurs': ['Harrison Ford', 'Karen Allen', 'Paul Freeman'], 'public': 'PG', 'durée': 115, 'description': 'Archaeology professor Indiana Jones ventures to seize a biblical artefact known as the Ark of the Covenant. While doing so, he puts up a fight against Renee and a troop of Nazis.', 'pays': ['United States']}\n",
      "{'_id': ObjectId('639afd486bf8070d50c15614'), 'title': 'Memento', 'score': '8.4', 'genre': 'Mystery', 'date': '2000', 'acteurs': ['Guy Pearce', 'Carrie-Anne Moss', 'Joe Pantoliano'], 'public': 'R', 'durée': 113, 'description': \"A man with short-term memory loss attempts to track down his wife's murderer.\", 'pays': ['United States', 'Color']}\n",
      "{'_id': ObjectId('639afd496bf8070d50c15615'), 'title': 'Apocalypse Now', 'score': '8.5', 'genre': 'Drama', 'date': '1979', 'acteurs': ['Martin Sheen', 'Marlon Brando', 'Robert Duvall'], 'public': 'R', 'durée': 147, 'description': 'A U.S. Army officer serving in Vietnam is tasked with assassinating a renegade Special Forces Colonel who sees himself as a god.', 'pays': ['United States']}\n",
      "{'_id': ObjectId('639afd4a6bf8070d50c15616'), 'title': 'City Lights', 'score': '8.5', 'genre': 'Comedy', 'date': '1931', 'acteurs': ['Charles Chaplin', 'Virginia Cherrill', 'Florence Lee'], 'public': 'G', 'durée': 87, 'description': None, 'pays': ['United States']}\n",
      "{'_id': ObjectId('639afd4b6bf8070d50c15617'), 'title': 'Alien', 'score': '8.5', 'genre': 'Horror', 'date': '1979', 'acteurs': ['Sigourney Weaver', 'Tom Skerritt', 'John Hurt'], 'public': 'R', 'durée': 117, 'description': 'The crew of a commercial spacecraft encounter a deadly lifeform after investigating an unknown transmission.', 'pays': ['United Kingdom', 'United States']}\n",
      "{'_id': ObjectId('639afd4c6bf8070d50c15618'), 'title': 'Cinema Paradiso', 'score': '8.5', 'genre': 'Drama', 'date': '1988', 'acteurs': ['Philippe Noiret', 'Enzo Cannavale', 'Antonella Attili'], 'public': 'PG', 'durée': 155, 'description': \"A filmmaker recalls his childhood when falling in love with the pictures at the cinema of his home village and forms a deep friendship with the cinema's projectionist.\", 'pays': ['Italy', 'France']}\n",
      "{'_id': ObjectId('639afd4e6bf8070d50c15619'), 'title': 'Rear Window', 'score': '8.5', 'genre': 'Mystery', 'date': '1954', 'acteurs': ['James Stewart', 'Grace Kelly', 'Wendell Corey'], 'public': 'PG', 'durée': 112, 'description': 'A wheelchair-bound photographer spies on his neighbors from his Greenwich Village courtyard apartment window, and becomes convinced one of them has committed murder, despite the skepticism of his fashion-model girlfriend.', 'pays': ['United States']}\n",
      "{'_id': ObjectId('639afd4f6bf8070d50c1561a'), 'title': 'Once Upon a Time in the West', 'score': '8.5', 'genre': 'Western', 'date': '1968', 'acteurs': ['Henry Fonda', 'Charles Bronson', 'Claudia Cardinale'], 'public': 'PG-13', 'durée': 165, 'description': 'A mysterious stranger with a harmonica joins forces with a notorious desperado to protect a beautiful widow from a ruthless assassin working for the railroad.', 'pays': ['Italy', 'United States']}\n",
      "{'_id': ObjectId('639afd506bf8070d50c1561b'), 'title': 'Modern Times', 'score': '8.5', 'genre': 'Comedy', 'date': '1936', 'acteurs': ['Charles Chaplin', 'Paulette Goddard', 'Henry Bergman'], 'public': 'G', 'durée': 87, 'description': 'The Tramp struggles to live in modern industrial society with the help of a young homeless woman.', 'pays': ['United States']}\n",
      "{'_id': ObjectId('639afd526bf8070d50c1561c'), 'title': 'The Intouchables', 'score': '8.5', 'genre': 'Biography', 'date': '2011', 'acteurs': ['François Cluzet', 'Omar Sy', 'Anne Le Ny'], 'public': 'R', 'durée': 112, 'description': 'After he becomes a quadriplegic from a paragliding accident, an aristocrat hires a young man from the projects to be his caregiver.', 'pays': ['France']}\n",
      "{'_id': ObjectId('639afd526bf8070d50c1561d'), 'title': 'Grave of the Fireflies', 'score': '8.5', 'genre': 'Animation', 'date': '1988', 'acteurs': ['Tsutomu Tatsumi', 'Ayano Shiraishi', 'Akemi Yamaguchi'], 'public': 'Not Rated', 'durée': 89, 'description': 'A young boy and his little sister struggle to survive in Japan during World War II.', 'pays': ['Japan']}\n",
      "{'_id': ObjectId('639afd546bf8070d50c1561e'), 'title': 'Harakiri', 'score': '8.6', 'genre': 'Action', 'date': '1962', 'acteurs': ['Tatsuya Nakadai', 'Akira Ishihama', 'Shima Iwashita'], 'public': 'Not Rated', 'durée': 133, 'description': None, 'pays': ['Japan']}\n",
      "{'_id': ObjectId('639afd566bf8070d50c1561f'), 'title': 'Whiplash', 'score': '8.5', 'genre': 'Drama', 'date': '2014', 'acteurs': ['Miles Teller', 'J.K. Simmons', 'Melissa Benoist'], 'public': 'R', 'durée': 106, 'description': \"A promising young drummer enrolls at a cut-throat music conservatory where his dreams of greatness are mentored by an instructor who will stop at nothing to realize a student's potential.\", 'pays': ['United States']}\n",
      "{'_id': ObjectId('639afd566bf8070d50c15620'), 'title': 'Casablanca', 'score': '8.5', 'genre': 'Drama', 'date': '1942', 'acteurs': ['Humphrey Bogart', 'Ingrid Bergman', 'Paul Henreid'], 'public': 'PG', 'durée': 102, 'description': 'A cynical expatriate American cafe owner struggles to decide whether or not to help his former lover and her fugitive husband escape the Nazis in French Morocco.', 'pays': ['United States']}\n",
      "{'_id': ObjectId('639afd576bf8070d50c15621'), 'title': 'The Prestige', 'score': '8.5', 'genre': 'Drama', 'date': '2006', 'acteurs': ['Christian Bale', 'Hugh Jackman', 'Scarlett Johansson'], 'public': 'PG-13', 'durée': 130, 'description': 'After a tragic accident, two stage magicians in 1890s London engage in a battle to create the ultimate illusion while sacrificing everything they have to outwit each other.', 'pays': ['United Kingdom', 'United States']}\n",
      "{'_id': ObjectId('639afd586bf8070d50c15622'), 'title': 'The Usual Suspects', 'score': '8.5', 'genre': 'Crime', 'date': '1995', 'acteurs': ['Kevin Spacey', 'Gabriel Byrne', 'Chazz Palminteri'], 'public': 'R', 'durée': 106, 'description': 'A sole survivor tells of the twisty events leading up to a horrific gun battle on a boat, which began when five criminals met at a seemingly random police lineup.', 'pays': ['United States', 'Germany', 'Dolby SR']}\n",
      "{'_id': ObjectId('639afd5a6bf8070d50c15623'), 'title': 'The Departed', 'score': '8.5', 'genre': 'Crime', 'date': '2006', 'acteurs': ['Leonardo DiCaprio', 'Matt Damon', 'Jack Nicholson'], 'public': 'R', 'durée': 151, 'description': 'An undercover cop and a mole in the police attempt to identify each other while infiltrating an Irish gang in South Boston.', 'pays': ['United States', 'Hong Kong']}\n",
      "{'_id': ObjectId('639afd5b6bf8070d50c15624'), 'title': 'American History X', 'score': '8.5', 'genre': 'Crime', 'date': '1998', 'acteurs': ['Edward Norton', 'Edward Furlong', \"Beverly D'Angelo\"], 'public': 'R', 'durée': 119, 'description': 'A former neo-nazi skinhead tries to prevent his younger brother from going down the same wrong path that he did.', 'pays': ['United States']}\n",
      "{'_id': ObjectId('639afd5d6bf8070d50c15625'), 'title': 'Gladiator', 'score': '8.5', 'genre': 'Action', 'date': '2000', 'acteurs': ['Russell Crowe', 'Joaquin Phoenix', 'Connie Nielsen'], 'public': 'R', 'durée': 155, 'description': 'A former Roman General sets out to exact vengeance against the corrupt emperor who murdered his family and sent him into slavery.', 'pays': ['United States', 'United Kingdom', 'Malta', 'Morocco']}\n",
      "{'_id': ObjectId('639afd5f6bf8070d50c15626'), 'title': 'Léon: The Professional', 'score': '8.5', 'genre': 'Action', 'date': '1994', 'acteurs': ['Jean Reno', 'Gary Oldman', 'Natalie Portman'], 'public': 'R', 'durée': 110, 'description': \"12-year-old Mathilda is reluctantly taken in by Léon, a professional assassin, after her family is murdered. An unusual relationship forms as she becomes his protégée and learns the assassin's trade.\", 'pays': ['France', 'United States']}\n",
      "{'_id': ObjectId('639afd5f6bf8070d50c15627'), 'title': 'The Lion King', 'score': '8.5', 'genre': 'Animation', 'date': '1994', 'acteurs': ['Matthew Broderick', 'Jeremy Irons', 'James Earl Jones'], 'public': 'G', 'durée': 88, 'description': 'Lion prince Simba and his father are targeted by his bitter uncle, who wants to ascend the throne himself.', 'pays': ['United States']}\n",
      "{'_id': ObjectId('639afd606bf8070d50c15628'), 'title': 'Parasite', 'score': '8.5', 'genre': 'Drama', 'date': '2019', 'acteurs': ['Song Kang-ho', 'Lee Sun-kyun', 'Cho Yeo-jeong'], 'public': 'R', 'durée': 132, 'description': 'Greed and class discrimination threaten the newly formed symbiotic relationship between the wealthy Park family and the destitute Kim clan.', 'pays': ['South Korea']}\n",
      "{'_id': ObjectId('639afd626bf8070d50c15629'), 'title': 'The Pianist', 'score': '8.5', 'genre': 'Biography', 'date': '2002', 'acteurs': ['Adrien Brody', 'Thomas Kretschmann', 'Frank Finlay'], 'public': 'R', 'durée': 150, 'description': 'A Polish Jewish musician struggles to survive the destruction of the Warsaw ghetto of World War II.', 'pays': ['France', 'Poland', 'Germany', 'United Kingdom']}\n",
      "{'_id': ObjectId('639afd646bf8070d50c1562a'), 'title': 'Psycho', 'score': '8.5', 'genre': 'Horror', 'date': '1960', 'acteurs': ['Anthony Perkins', 'Janet Leigh', 'Vera Miles'], 'public': 'R', 'durée': 109, 'description': \"A Phoenix secretary embezzles $40,000 from her employer's client, goes on the run and checks into a remote motel run by a young man under the domination of his mother.\", 'pays': ['United States']}\n",
      "{'_id': ObjectId('639afd646bf8070d50c1562b'), 'title': 'Spirited Away', 'score': '8.6', 'genre': 'Animation', 'date': '2001', 'acteurs': ['Daveigh Chase', 'Suzanne Pleshette', 'Miyu Irino'], 'public': 'PG', 'durée': 125, 'description': \"During her family's move to the suburbs, a sullen 10-year-old girl wanders into a world ruled by gods, witches, and spirits, and where humans are changed into beasts.\", 'pays': ['Japan']}\n",
      "{'_id': ObjectId('639afd646bf8070d50c1562c'), 'title': 'Back to the Future', 'score': '8.5', 'genre': 'Adventure', 'date': '1985', 'acteurs': ['Michael J. Fox', 'Christopher Lloyd', 'Lea Thompson'], 'public': 'PG', 'durée': 116, 'description': 'Marty McFly, a 17-year-old high school student, is accidentally sent 30 years into the past in a time-traveling DeLorean invented by his close friend, the maverick scientist Doc Brown.', 'pays': ['United States']}\n",
      "{'_id': ObjectId('639afd666bf8070d50c1562d'), 'title': 'Terminator 2: Judgment Day', 'score': '8.6', 'genre': 'Action', 'date': '1991', 'acteurs': ['Arnold Schwarzenegger', 'Linda Hamilton', 'Edward Furlong'], 'public': 'R', 'durée': 137, 'description': 'A cyborg, identical to the one who failed to kill Sarah Connor, must now protect her 10-year old adolescent son John from an even more advanced and powerful cyborg.', 'pays': ['United States']}\n",
      "{'_id': ObjectId('639afd676bf8070d50c1562e'), 'title': 'Star Wars: Episode IV - A New Hope', 'score': '8.6', 'genre': 'Action', 'date': '1977', 'acteurs': ['Mark Hamill', 'Harrison Ford', 'Carrie Fisher'], 'public': 'PG', 'durée': 121, 'description': \"Luke Skywalker joins forces with a Jedi Knight, a cocky pilot, a Wookiee and two droids to save the galaxy from the Empire's world-destroying battle station, while also attempting to rescue Princess Leia from the mysterious Darth Vader.\", 'pays': ['United States', 'Dolby Atmos', 'Mono']}\n",
      "{'_id': ObjectId('639afd686bf8070d50c1562f'), 'title': 'Fight Club', 'score': '8.8', 'genre': 'Drama', 'date': '1999', 'acteurs': ['Brad Pitt', 'Edward Norton', 'Meat Loaf'], 'public': 'R', 'durée': 139, 'description': 'An insomniac office worker and a devil-may-care soap maker form an underground fight club that evolves into much more.', 'pays': ['Germany', 'United States']}\n",
      "{'_id': ObjectId('639afd6a6bf8070d50c15630'), 'title': 'Forrest Gump', 'score': '8.8', 'genre': 'Drama', 'date': '1994', 'acteurs': ['Tom Hanks', 'Robin Wright', 'Gary Sinise'], 'public': 'PG-13', 'durée': 142, 'description': 'The presidencies of Kennedy and Johnson, the Vietnam War, the Watergate scandal and other historical events unfold from the perspective of an Alabama man with an IQ of 75, whose only desire is to be reunited with his childhood sweetheart.', 'pays': ['United States', 'Color']}\n",
      "{'_id': ObjectId('639afd6b6bf8070d50c15631'), 'title': 'The Good, the Bad and the Ugly', 'score': '8.8', 'genre': 'Adventure', 'date': '1966', 'acteurs': ['Clint Eastwood', 'Eli Wallach', 'Lee Van Cleef'], 'public': 'R', 'durée': 178, 'description': 'A bounty hunting scam joins two men in an uneasy alliance against a third in a race to find a fortune in gold buried in a remote cemetery.', 'pays': ['Italy', 'Spain', 'West Germany']}\n",
      "{'_id': ObjectId('639afd6c6bf8070d50c15632'), 'title': 'The Lord of the Rings: The Fellowship of the Ring', 'score': '8.8', 'genre': 'Action', 'date': '2001', 'acteurs': ['Elijah Wood', 'Ian McKellen', 'Orlando Bloom'], 'public': 'PG-13', 'durée': 178, 'description': 'A meek Hobbit from the Shire and eight companions set out on a journey to destroy the powerful One Ring and save Middle-earth from the Dark Lord Sauron.', 'pays': ['New Zealand', 'United States']}\n",
      "{'_id': ObjectId('639afd6e6bf8070d50c15633'), 'title': 'Pulp Fiction', 'score': '8.9', 'genre': 'Crime', 'date': '1994', 'acteurs': ['John Travolta', 'Uma Thurman', 'Samuel L. Jackson'], 'public': 'R', 'durée': 154, 'description': 'The lives of two mob hitmen, a boxer, a gangster and his wife, and a pair of diner bandits intertwine in four tales of violence and redemption.', 'pays': ['United States']}\n",
      "{'_id': ObjectId('639afd6f6bf8070d50c15634'), 'title': 'The Lord of the Rings: The Return of the King', 'score': '9.0', 'genre': 'Action', 'date': '2003', 'acteurs': ['Elijah Wood', 'Viggo Mortensen', 'Ian McKellen'], 'public': 'PG-13', 'durée': 201, 'description': \"Gandalf and Aragorn lead the World of Men against Sauron's army to draw his gaze from Frodo and Sam as they approach Mount Doom with the One Ring.\", 'pays': ['New Zealand', 'United States']}\n",
      "{'_id': ObjectId('639afd706bf8070d50c15635'), 'title': \"Schindler's List\", 'score': '9.0', 'genre': 'Biography', 'date': '1993', 'acteurs': ['Liam Neeson', 'Ralph Fiennes', 'Ben Kingsley'], 'public': 'R', 'durée': 195, 'description': 'In German-occupied Poland during World War II, industrialist Oskar Schindler gradually becomes concerned for his Jewish workforce after witnessing their persecution by the Nazis.', 'pays': ['United States', 'Black and White']}\n",
      "{'_id': ObjectId('639afd716bf8070d50c15636'), 'title': '12 Angry Men', 'score': '9.0', 'genre': 'Crime', 'date': '1957', 'acteurs': ['Henry Fonda', 'Lee J. Cobb', 'Martin Balsam'], 'public': 'Approved', 'durée': 96, 'description': 'The jury in a New York City murder trial is frustrated by a single member whose skeptical caution forces them to more carefully consider the evidence before jumping to a hasty verdict.', 'pays': ['United States']}\n",
      "{'_id': ObjectId('639afd736bf8070d50c15637'), 'title': 'The Godfather Part II', 'score': '9.0', 'genre': 'Crime', 'date': '1974', 'acteurs': ['Al Pacino', 'Robert De Niro', 'Robert Duvall'], 'public': 'R', 'durée': 202, 'description': 'The early life and career of Vito Corleone in 1920s New York City is portrayed, while his son, Michael, expands and tightens his grip on the family crime syndicate.', 'pays': ['United States']}\n",
      "{'_id': ObjectId('639afd746bf8070d50c15638'), 'title': 'The Dark Knight', 'score': '9.0', 'genre': 'Action', 'date': '2008', 'acteurs': ['Christian Bale', 'Heath Ledger', 'Aaron Eckhart'], 'public': 'PG-13', 'durée': 152, 'description': 'When the menace known as the Joker wreaks havoc and chaos on the people of Gotham, Batman must accept one of the greatest psychological and physical tests of his ability to fight injustice.', 'pays': ['United States', 'United Kingdom', 'Dolby Digital', 'SDDS']}\n",
      "{'_id': ObjectId('639afd756bf8070d50c15639'), 'title': 'The Godfather', 'score': '9.2', 'genre': 'Crime', 'date': '1972', 'acteurs': ['Marlon Brando', 'Al Pacino', 'James Caan'], 'public': 'R', 'durée': 175, 'description': 'The aging patriarch of an organized crime dynasty in postwar New York City transfers control of his clandestine empire to his reluctant youngest son.', 'pays': ['United States']}\n"
     ]
    }
   ],
   "source": [
    "\n",
    "# Importation des librairies\n",
    "import pymongo\n",
    "import pandas as pd\n",
    "\n",
    "# Connexion à la base de données\n",
    "client = pymongo.MongoClient(\"mongodb://localhost:27017/\")\n",
    "\n",
    "# Récupérer le nom de la base de données\n",
    "db = client[\"ScrapingIMDB\"]\n",
    "\n",
    "# Récupérer le nom de la collection\n",
    "collection = db[\"movies\"]\n",
    "\n",
    "# Récupérer les documents\n",
    "documents = collection.find()\n",
    "\n",
    "# Afficher les documents\n",
    "for document in documents:\n",
    "    print(document)"
   ]
  },
  {
   "cell_type": "markdown",
   "metadata": {},
   "source": [
    "### COLLECTION = TABLE\n",
    "### COLONNE = KEYS"
   ]
  },
  {
   "cell_type": "markdown",
   "metadata": {},
   "source": [
    "# 1) Quel est le film le plus long ?\n"
   ]
  },
  {
   "cell_type": "code",
   "execution_count": 57,
   "metadata": {},
   "outputs": [
    {
     "data": {
      "text/plain": [
       "{'_id': ObjectId('639afcc96bf8070d50c155ad'),\n",
       " 'title': 'Gone with the Wind',\n",
       " 'score': '8.2',\n",
       " 'genre': 'Drama',\n",
       " 'date': '1939',\n",
       " 'acteurs': ['Clark Gable', 'Vivien Leigh', 'Thomas Mitchell'],\n",
       " 'public': 'Passed',\n",
       " 'durée': 238,\n",
       " 'description': 'The manipulative daughter of a Georgia plantation owner conducts a turbulent romance with a roguish profiteer during the American Civil War and Reconstruction periods.',\n",
       " 'pays': []}"
      ]
     },
     "execution_count": 57,
     "metadata": {},
     "output_type": "execute_result"
    }
   ],
   "source": [
    "film_plus_long = db.movies.find().sort([('durée', pymongo.DESCENDING)]).limit(1)[0]\n",
    "film_plus_long\n"
   ]
  },
  {
   "cell_type": "code",
   "execution_count": 34,
   "metadata": {},
   "outputs": [
    {
     "name": "stdout",
     "output_type": "stream",
     "text": [
      "le nom du film le plus long est Gone with the Wind et dure 238 minutes\n"
     ]
    }
   ],
   "source": [
    "film_plus_long\n",
    "print('le nom du film le plus long est {} et dure {} minutes'.format(film_plus_long['title'], film_plus_long['durée'] ))\n"
   ]
  },
  {
   "cell_type": "markdown",
   "metadata": {},
   "source": [
    "# 2) Quels sont les 5 films les mieux notés ?"
   ]
  },
  {
   "cell_type": "code",
   "execution_count": 35,
   "metadata": {},
   "outputs": [
    {
     "data": {
      "text/plain": [
       "<pymongo.cursor.Cursor at 0x7ff3b0d4f730>"
      ]
     },
     "execution_count": 35,
     "metadata": {},
     "output_type": "execute_result"
    }
   ],
   "source": [
    "films_mieux_notes = db.movies.find().sort([('score', pymongo.DESCENDING)]).limit(5)\n",
    "films_mieux_notes"
   ]
  },
  {
   "cell_type": "code",
   "execution_count": 36,
   "metadata": {},
   "outputs": [
    {
     "name": "stdout",
     "output_type": "stream",
     "text": [
      " le film The Shawshank Redemption a un score de 9.3 \n",
      " le film The Godfather a un score de 9.2 \n",
      " le film The Godfather Part II a un score de 9.0 \n",
      " le film 12 Angry Men a un score de 9.0 \n",
      " le film Schindler's List a un score de 9.0 \n"
     ]
    }
   ],
   "source": [
    "for films in films_mieux_notes:\n",
    "    print(\" le film {} a un score de {} \" .format(films['title'] , films ['score']) )\n",
    "    "
   ]
  },
  {
   "cell_type": "code",
   "execution_count": 37,
   "metadata": {},
   "outputs": [
    {
     "data": {
      "text/html": [
       "<div>\n",
       "<style scoped>\n",
       "    .dataframe tbody tr th:only-of-type {\n",
       "        vertical-align: middle;\n",
       "    }\n",
       "\n",
       "    .dataframe tbody tr th {\n",
       "        vertical-align: top;\n",
       "    }\n",
       "\n",
       "    .dataframe thead th {\n",
       "        text-align: right;\n",
       "    }\n",
       "</style>\n",
       "<table border=\"1\" class=\"dataframe\">\n",
       "  <thead>\n",
       "    <tr style=\"text-align: right;\">\n",
       "      <th></th>\n",
       "      <th>title</th>\n",
       "      <th>score</th>\n",
       "    </tr>\n",
       "  </thead>\n",
       "  <tbody>\n",
       "  </tbody>\n",
       "</table>\n",
       "</div>"
      ],
      "text/plain": [
       "Empty DataFrame\n",
       "Columns: [title, score]\n",
       "Index: []"
      ]
     },
     "execution_count": 37,
     "metadata": {},
     "output_type": "execute_result"
    }
   ],
   "source": [
    "title_film = []\n",
    "score_film = []\n",
    "\n",
    "for films in films_mieux_notes:\n",
    "    title_film.append(films['title'])\n",
    "    score_film.append(films['score'])\n",
    "\n",
    "df_meilleurs_films = pd.DataFrame({'title': title_film, 'score': score_film})\n",
    "df_meilleurs_films\n",
    "\n"
   ]
  },
  {
   "cell_type": "markdown",
   "metadata": {},
   "source": [
    "# 3) Dans combien de films a joué Morgan Freeman ? Tom Cruise ?"
   ]
  },
  {
   "cell_type": "code",
   "execution_count": 38,
   "metadata": {},
   "outputs": [
    {
     "data": {
      "text/plain": [
       "<pymongo.cursor.Cursor at 0x7ff3d1cd7a00>"
      ]
     },
     "execution_count": 38,
     "metadata": {},
     "output_type": "execute_result"
    }
   ],
   "source": [
    "Morgan_freeman = db.movies.find({\"acteurs\":\"Morgan Freeman\"})\n",
    "Morgan_freeman"
   ]
  },
  {
   "cell_type": "code",
   "execution_count": 39,
   "metadata": {},
   "outputs": [
    {
     "name": "stdout",
     "output_type": "stream",
     "text": [
      "4\n"
     ]
    }
   ],
   "source": [
    "conteur=0\n",
    "for movies in Morgan_freeman: \n",
    "    conteur+=1\n",
    "print(conteur)\n"
   ]
  },
  {
   "cell_type": "code",
   "execution_count": 40,
   "metadata": {},
   "outputs": [
    {
     "data": {
      "text/plain": [
       "<pymongo.cursor.Cursor at 0x7ff3b0d4c610>"
      ]
     },
     "execution_count": 40,
     "metadata": {},
     "output_type": "execute_result"
    }
   ],
   "source": [
    "Tom_cruise = db.movies.find({\"acteurs\":\"Tom Cruise\"})\n",
    "Tom_cruise"
   ]
  },
  {
   "cell_type": "code",
   "execution_count": 41,
   "metadata": {},
   "outputs": [
    {
     "name": "stdout",
     "output_type": "stream",
     "text": [
      "1\n"
     ]
    }
   ],
   "source": [
    "conteur=0\n",
    "for movies in Tom_cruise: \n",
    "    conteur+=1\n",
    "print(conteur)"
   ]
  },
  {
   "cell_type": "markdown",
   "metadata": {},
   "source": [
    "# 4) Quels sont les 3 meilleurs films d’horreur ? Dramatique ? Comique ?\n"
   ]
  },
  {
   "cell_type": "code",
   "execution_count": 42,
   "metadata": {},
   "outputs": [],
   "source": [
    "meilleurs_films_dhorreur = db.movies.find({\"genre\":\"Horror\"}).sort([('score', pymongo.DESCENDING)]).limit(3)"
   ]
  },
  {
   "cell_type": "code",
   "execution_count": 43,
   "metadata": {},
   "outputs": [
    {
     "name": "stdout",
     "output_type": "stream",
     "text": [
      "Les meilleurs films d'horreurs sont:\n",
      "Psycho : 8.5\n",
      "Alien : 8.5\n",
      "The Thing : 8.2\n"
     ]
    }
   ],
   "source": [
    "print(\"Les meilleurs films d'horreurs sont:\")\n",
    "for films in meilleurs_films_dhorreur:\n",
    "\n",
    "    print (\"{} : {}\"  .format(films['title'], films['score']))"
   ]
  },
  {
   "cell_type": "code",
   "execution_count": 44,
   "metadata": {},
   "outputs": [],
   "source": [
    "meilleurs_films_drama = db.movies.find({\"genre\":\"Drama\"}).sort([('score', pymongo.DESCENDING)]).limit(3)"
   ]
  },
  {
   "cell_type": "code",
   "execution_count": 45,
   "metadata": {},
   "outputs": [
    {
     "name": "stdout",
     "output_type": "stream",
     "text": [
      "Les meilleurs films Drama sont:\n",
      "The Shawshank Redemption : 9.3\n",
      "Forrest Gump : 8.8\n",
      "Fight Club : 8.8\n"
     ]
    }
   ],
   "source": [
    "print(\"Les meilleurs films Drama sont:\")\n",
    "for films in meilleurs_films_drama:\n",
    "\n",
    "    print (\"{} : {}\"  .format(films['title'], films['score']))"
   ]
  },
  {
   "cell_type": "code",
   "execution_count": 46,
   "metadata": {},
   "outputs": [],
   "source": [
    "meilleurs_films_comique = db.movies.find({\"genre\":\"Comedy\"}).sort([('score', pymongo.DESCENDING)]).limit(3)"
   ]
  },
  {
   "cell_type": "code",
   "execution_count": 47,
   "metadata": {},
   "outputs": [
    {
     "name": "stdout",
     "output_type": "stream",
     "text": [
      "Les meilleurs films comique sont:\n",
      "Life Is Beautiful : 8.6\n",
      "Modern Times : 8.5\n",
      "City Lights : 8.5\n"
     ]
    }
   ],
   "source": [
    "print(\"Les meilleurs films comique sont:\")\n",
    "for films in meilleurs_films_comique:\n",
    "\n",
    "    print (\"{} : {}\"  .format(films['title'], films['score']))"
   ]
  },
  {
   "cell_type": "markdown",
   "metadata": {},
   "source": [
    "# 5) Parmi les 100 films les mieux notés, quel pourcentage sont américains ? Français ?"
   ]
  },
  {
   "cell_type": "code",
   "execution_count": 48,
   "metadata": {},
   "outputs": [
    {
     "data": {
      "text/plain": [
       "'Il y a 0% de films américains ans le top 100'"
      ]
     },
     "execution_count": 48,
     "metadata": {},
     "output_type": "execute_result"
    }
   ],
   "source": [
    "top_100_states = []\n",
    "for film in collection.find({\"scrap_type\":\"film\"}).sort(\"score\", -1).limit(100):\n",
    "    if film['pays'] == \"United States\":\n",
    "        top_100_states.append(film)\n",
    "\n",
    "pourcent_states = \"Il y a \" + str(len(top_100_states)) + '% de films américains ans le top 100'\n",
    "\n",
    "pourcent_states"
   ]
  },
  {
   "cell_type": "code",
   "execution_count": 49,
   "metadata": {},
   "outputs": [
    {
     "name": "stdout",
     "output_type": "stream",
     "text": [
      "{'_id': ObjectId('639afc476bf8070d50c15541'), 'title': 'The Shawshank Redemption', 'score': '9.3', 'genre': 'Drama', 'date': '1994', 'acteurs': ['Tim Robbins', 'Morgan Freeman', 'Bob Gunton'], 'public': 'R', 'durée': 142, 'description': 'Two imprisoned men bond over a number of years, finding solace and eventual redemption through acts of common decency.', 'pays': ['United States']}\n",
      "{'_id': ObjectId('639afd756bf8070d50c15639'), 'title': 'The Godfather', 'score': '9.2', 'genre': 'Crime', 'date': '1972', 'acteurs': ['Marlon Brando', 'Al Pacino', 'James Caan'], 'public': 'R', 'durée': 175, 'description': 'The aging patriarch of an organized crime dynasty in postwar New York City transfers control of his clandestine empire to his reluctant youngest son.', 'pays': ['United States']}\n",
      "{'_id': ObjectId('639afd736bf8070d50c15637'), 'title': 'The Godfather Part II', 'score': '9.0', 'genre': 'Crime', 'date': '1974', 'acteurs': ['Al Pacino', 'Robert De Niro', 'Robert Duvall'], 'public': 'R', 'durée': 202, 'description': 'The early life and career of Vito Corleone in 1920s New York City is portrayed, while his son, Michael, expands and tightens his grip on the family crime syndicate.', 'pays': ['United States']}\n",
      "{'_id': ObjectId('639afd746bf8070d50c15638'), 'title': 'The Dark Knight', 'score': '9.0', 'genre': 'Action', 'date': '2008', 'acteurs': ['Christian Bale', 'Heath Ledger', 'Aaron Eckhart'], 'public': 'PG-13', 'durée': 152, 'description': 'When the menace known as the Joker wreaks havoc and chaos on the people of Gotham, Batman must accept one of the greatest psychological and physical tests of his ability to fight injustice.', 'pays': ['United States', 'United Kingdom', 'Dolby Digital', 'SDDS']}\n",
      "{'_id': ObjectId('639afd716bf8070d50c15636'), 'title': '12 Angry Men', 'score': '9.0', 'genre': 'Crime', 'date': '1957', 'acteurs': ['Henry Fonda', 'Lee J. Cobb', 'Martin Balsam'], 'public': 'Approved', 'durée': 96, 'description': 'The jury in a New York City murder trial is frustrated by a single member whose skeptical caution forces them to more carefully consider the evidence before jumping to a hasty verdict.', 'pays': ['United States']}\n",
      "{'_id': ObjectId('639afd6f6bf8070d50c15634'), 'title': 'The Lord of the Rings: The Return of the King', 'score': '9.0', 'genre': 'Action', 'date': '2003', 'acteurs': ['Elijah Wood', 'Viggo Mortensen', 'Ian McKellen'], 'public': 'PG-13', 'durée': 201, 'description': \"Gandalf and Aragorn lead the World of Men against Sauron's army to draw his gaze from Frodo and Sam as they approach Mount Doom with the One Ring.\", 'pays': ['New Zealand', 'United States']}\n",
      "{'_id': ObjectId('639afd706bf8070d50c15635'), 'title': \"Schindler's List\", 'score': '9.0', 'genre': 'Biography', 'date': '1993', 'acteurs': ['Liam Neeson', 'Ralph Fiennes', 'Ben Kingsley'], 'public': 'R', 'durée': 195, 'description': 'In German-occupied Poland during World War II, industrialist Oskar Schindler gradually becomes concerned for his Jewish workforce after witnessing their persecution by the Nazis.', 'pays': ['United States', 'Black and White']}\n",
      "{'_id': ObjectId('639afd6e6bf8070d50c15633'), 'title': 'Pulp Fiction', 'score': '8.9', 'genre': 'Crime', 'date': '1994', 'acteurs': ['John Travolta', 'Uma Thurman', 'Samuel L. Jackson'], 'public': 'R', 'durée': 154, 'description': 'The lives of two mob hitmen, a boxer, a gangster and his wife, and a pair of diner bandits intertwine in four tales of violence and redemption.', 'pays': ['United States']}\n",
      "{'_id': ObjectId('639afc706bf8070d50c15563'), 'title': 'Jai Bhim', 'score': '8.9', 'genre': 'Crime', 'date': '2021', 'acteurs': ['Suriya', 'Lijo Mol Jose', 'Manikandan K.'], 'public': 'TV-MA', 'durée': 164, 'description': 'When a tribal man is arrested for a case of alleged theft, his wife turns to a human-rights lawyer to help bring justice.', 'pays': ['India']}\n",
      "{'_id': ObjectId('639afc596bf8070d50c15550'), 'title': 'The Lord of the Rings: The Two Towers', 'score': '8.8', 'genre': 'Action', 'date': '2002', 'acteurs': ['Elijah Wood', 'Ian McKellen', 'Viggo Mortensen'], 'public': 'PG-13', 'durée': 179, 'description': \"While Frodo and Sam edge closer to Mordor with the help of the shifty Gollum, the divided fellowship makes a stand against Sauron's new ally, Saruman, and his hordes of Isengard.\", 'pays': ['New Zealand', 'United States']}\n",
      "{'_id': ObjectId('639afc586bf8070d50c1554f'), 'title': 'Inception', 'score': '8.8', 'genre': 'Action', 'date': '2010', 'acteurs': ['Leonardo DiCaprio', 'Joseph Gordon-Levitt', 'Elliot Page'], 'public': 'PG-13', 'durée': 148, 'description': 'A thief who steals corporate secrets through the use of dream-sharing technology is given the inverse task of planting an idea into the mind of a C.E.O., but his tragic past may doom the project and his team to disaster.', 'pays': ['United States', 'United Kingdom']}\n",
      "{'_id': ObjectId('639afd6c6bf8070d50c15632'), 'title': 'The Lord of the Rings: The Fellowship of the Ring', 'score': '8.8', 'genre': 'Action', 'date': '2001', 'acteurs': ['Elijah Wood', 'Ian McKellen', 'Orlando Bloom'], 'public': 'PG-13', 'durée': 178, 'description': 'A meek Hobbit from the Shire and eight companions set out on a journey to destroy the powerful One Ring and save Middle-earth from the Dark Lord Sauron.', 'pays': ['New Zealand', 'United States']}\n",
      "{'_id': ObjectId('639afd6b6bf8070d50c15631'), 'title': 'The Good, the Bad and the Ugly', 'score': '8.8', 'genre': 'Adventure', 'date': '1966', 'acteurs': ['Clint Eastwood', 'Eli Wallach', 'Lee Van Cleef'], 'public': 'R', 'durée': 178, 'description': 'A bounty hunting scam joins two men in an uneasy alliance against a third in a race to find a fortune in gold buried in a remote cemetery.', 'pays': ['Italy', 'Spain', 'West Germany']}\n",
      "{'_id': ObjectId('639afd6a6bf8070d50c15630'), 'title': 'Forrest Gump', 'score': '8.8', 'genre': 'Drama', 'date': '1994', 'acteurs': ['Tom Hanks', 'Robin Wright', 'Gary Sinise'], 'public': 'PG-13', 'durée': 142, 'description': 'The presidencies of Kennedy and Johnson, the Vietnam War, the Watergate scandal and other historical events unfold from the perspective of an Alabama man with an IQ of 75, whose only desire is to be reunited with his childhood sweetheart.', 'pays': ['United States', 'Color']}\n",
      "{'_id': ObjectId('639afd686bf8070d50c1562f'), 'title': 'Fight Club', 'score': '8.8', 'genre': 'Drama', 'date': '1999', 'acteurs': ['Brad Pitt', 'Edward Norton', 'Meat Loaf'], 'public': 'R', 'durée': 139, 'description': 'An insomniac office worker and a devil-may-care soap maker form an underground fight club that evolves into much more.', 'pays': ['Germany', 'United States']}\n",
      "{'_id': ObjectId('639afc566bf8070d50c1554e'), 'title': 'Star Wars: Episode V - The Empire Strikes Back', 'score': '8.7', 'genre': 'Action', 'date': '1980', 'acteurs': ['Mark Hamill', 'Harrison Ford', 'Carrie Fisher'], 'public': 'PG', 'durée': 124, 'description': 'After the Rebels are brutally overpowered by the Empire on the ice planet Hoth, Luke Skywalker begins Jedi training with Yoda, while his friends are pursued across the galaxy by Darth Vader and bounty hunter Boba Fett.', 'pays': ['United States']}\n",
      "{'_id': ObjectId('639afc536bf8070d50c1554b'), 'title': \"One Flew Over the Cuckoo's Nest\", 'score': '8.7', 'genre': 'Drama', 'date': '1975', 'acteurs': ['Jack Nicholson', 'Louise Fletcher', 'Michael Berryman'], 'public': 'R', 'durée': 133, 'description': 'In the Fall of 1963, a Korean War veteran and criminal pleads insanity and is admitted to a mental institution, where he rallies up the scared patients against the tyrannical nurse.', 'pays': ['United States']}\n",
      "{'_id': ObjectId('639afc536bf8070d50c1554c'), 'title': 'Goodfellas', 'score': '8.7', 'genre': 'Biography', 'date': '1990', 'acteurs': ['Robert De Niro', 'Ray Liotta', 'Joe Pesci'], 'public': 'R', 'durée': 145, 'description': 'The story of Henry Hill and his life in the mob, covering his relationship with his wife Karen Hill and his mob partners Jimmy Conway and Tommy DeVito in the Italian-American crime syndicate.', 'pays': ['United States']}\n",
      "{'_id': ObjectId('639afc556bf8070d50c1554d'), 'title': 'The Matrix', 'score': '8.7', 'genre': 'Action', 'date': '1999', 'acteurs': ['Keanu Reeves', 'Laurence Fishburne', 'Carrie-Anne Moss'], 'public': 'R', 'durée': 136, 'description': 'When a beautiful stranger leads computer hacker Neo to a forbidding underworld, he discovers the shocking truth--the life he knows is the elaborate deception of an evil cyber-intelligence.', 'pays': ['United States', 'Australia']}\n",
      "{'_id': ObjectId('639afc4b6bf8070d50c15545'), 'title': 'Saving Private Ryan', 'score': '8.6', 'genre': 'Drama', 'date': '1998', 'acteurs': ['Tom Hanks', 'Matt Damon', 'Tom Sizemore'], 'public': 'R', 'durée': 169, 'description': 'Following the Normandy Landings, a group of U.S. soldiers go behind enemy lines to retrieve a paratrooper whose brothers have been killed in action.', 'pays': ['United States']}\n",
      "{'_id': ObjectId('639afc506bf8070d50c15548'), 'title': \"It's a Wonderful Life\", 'score': '8.6', 'genre': 'Drama', 'date': '1946', 'acteurs': ['James Stewart', 'Donna Reed', 'Lionel Barrymore'], 'public': 'PG', 'durée': 130, 'description': 'An angel is sent from Heaven to help a desperately frustrated businessman by showing him what life would have been like if he had never existed.', 'pays': ['United States']}\n",
      "{'_id': ObjectId('639afd546bf8070d50c1561e'), 'title': 'Harakiri', 'score': '8.6', 'genre': 'Action', 'date': '1962', 'acteurs': ['Tatsuya Nakadai', 'Akira Ishihama', 'Shima Iwashita'], 'public': 'Not Rated', 'durée': 133, 'description': None, 'pays': ['Japan']}\n",
      "{'_id': ObjectId('639afc4a6bf8070d50c15544'), 'title': 'Life Is Beautiful', 'score': '8.6', 'genre': 'Comedy', 'date': '1997', 'acteurs': ['Roberto Benigni', 'Nicoletta Braschi', 'Giorgio Cantarini'], 'public': 'PG-13', 'durée': 116, 'description': 'When an open-minded Jewish waiter and his son become victims of the Holocaust, he uses a perfect mixture of will, humor, and imagination to protect his son from the dangers around their camp.', 'pays': ['Italy']}\n",
      "{'_id': ObjectId('639afd646bf8070d50c1562b'), 'title': 'Spirited Away', 'score': '8.6', 'genre': 'Animation', 'date': '2001', 'acteurs': ['Daveigh Chase', 'Suzanne Pleshette', 'Miyu Irino'], 'public': 'PG', 'durée': 125, 'description': \"During her family's move to the suburbs, a sullen 10-year-old girl wanders into a world ruled by gods, witches, and spirits, and where humans are changed into beasts.\", 'pays': ['Japan']}\n",
      "{'_id': ObjectId('639afd666bf8070d50c1562d'), 'title': 'Terminator 2: Judgment Day', 'score': '8.6', 'genre': 'Action', 'date': '1991', 'acteurs': ['Arnold Schwarzenegger', 'Linda Hamilton', 'Edward Furlong'], 'public': 'R', 'durée': 137, 'description': 'A cyborg, identical to the one who failed to kill Sarah Connor, must now protect her 10-year old adolescent son John from an even more advanced and powerful cyborg.', 'pays': ['United States']}\n",
      "{'_id': ObjectId('639afd676bf8070d50c1562e'), 'title': 'Star Wars: Episode IV - A New Hope', 'score': '8.6', 'genre': 'Action', 'date': '1977', 'acteurs': ['Mark Hamill', 'Harrison Ford', 'Carrie Fisher'], 'public': 'PG', 'durée': 121, 'description': \"Luke Skywalker joins forces with a Jedi Knight, a cocky pilot, a Wookiee and two droids to save the galaxy from the Empire's world-destroying battle station, while also attempting to rescue Princess Leia from the mysterious Darth Vader.\", 'pays': ['United States', 'Dolby Atmos', 'Mono']}\n",
      "{'_id': ObjectId('639afc506bf8070d50c15549'), 'title': 'Seven Samurai', 'score': '8.6', 'genre': 'Action', 'date': '1954', 'acteurs': ['Toshirô Mifune', 'Takashi Shimura', 'Keiko Tsushima'], 'public': 'Not Rated', 'durée': 207, 'description': 'Farmers from a village exploited by bandits hire a veteran samurai for protection, who gathers six other samurai to join him.', 'pays': ['Japan']}\n",
      "{'_id': ObjectId('639afc516bf8070d50c1554a'), 'title': 'Se7en', 'score': '8.6', 'genre': 'Crime', 'date': '1995', 'acteurs': ['Morgan Freeman', 'Brad Pitt', 'Kevin Spacey'], 'public': 'R', 'durée': 127, 'description': 'Two detectives, a rookie and a veteran, hunt a serial killer who uses the seven deadly sins as his motives.', 'pays': ['United States']}\n",
      "{'_id': ObjectId('639afc4c6bf8070d50c15546'), 'title': 'City of God', 'score': '8.6', 'genre': 'Crime', 'date': '2002', 'acteurs': ['Alexandre Rodrigues', 'Leandro Firmino', 'Matheus Nachtergaele'], 'public': 'R', 'durée': 130, 'description': \"In the slums of Rio, two kids' paths diverge as one struggles to become a photographer and the other a kingpin.\", 'pays': ['Brazil', 'France', 'Germany']}\n",
      "{'_id': ObjectId('639afc486bf8070d50c15542'), 'title': 'The Green Mile', 'score': '8.6', 'genre': 'Crime', 'date': '1999', 'acteurs': ['Tom Hanks', 'Michael Clarke Duncan', 'David Morse'], 'public': 'R', 'durée': 189, 'description': 'The lives of guards on Death Row are affected by one of their charges: a black man accused of child murder and rape, yet who has a mysterious gift.', 'pays': ['United States']}\n",
      "{'_id': ObjectId('639afc496bf8070d50c15543'), 'title': 'Interstellar', 'score': '8.6', 'genre': 'Adventure', 'date': '2014', 'acteurs': ['Matthew McConaughey', 'Anne Hathaway', 'Jessica Chastain'], 'public': 'PG-13', 'durée': 169, 'description': \"A team of explorers travel through a wormhole in space in an attempt to ensure humanity's survival.\", 'pays': ['United States', 'United Kingdom', 'Canada', 'Datasat', 'Dolby Digital', 'IMAX 6-Track']}\n",
      "{'_id': ObjectId('639afc4e6bf8070d50c15547'), 'title': 'The Silence of the Lambs', 'score': '8.6', 'genre': 'Crime', 'date': '1991', 'acteurs': ['Jodie Foster', 'Anthony Hopkins', 'Lawrence A. Bonney'], 'public': 'R', 'durée': 118, 'description': 'A young F.B.I. cadet must receive the help of an incarcerated and manipulative cannibal killer to help catch another serial killer, a madman who skins his victims.', 'pays': ['United States']}\n",
      "{'_id': ObjectId('639afd526bf8070d50c1561c'), 'title': 'The Intouchables', 'score': '8.5', 'genre': 'Biography', 'date': '2011', 'acteurs': ['François Cluzet', 'Omar Sy', 'Anne Le Ny'], 'public': 'R', 'durée': 112, 'description': 'After he becomes a quadriplegic from a paragliding accident, an aristocrat hires a young man from the projects to be his caregiver.', 'pays': ['France']}\n",
      "{'_id': ObjectId('639afd526bf8070d50c1561d'), 'title': 'Grave of the Fireflies', 'score': '8.5', 'genre': 'Animation', 'date': '1988', 'acteurs': ['Tsutomu Tatsumi', 'Ayano Shiraishi', 'Akemi Yamaguchi'], 'public': 'Not Rated', 'durée': 89, 'description': 'A young boy and his little sister struggle to survive in Japan during World War II.', 'pays': ['Japan']}\n",
      "{'_id': ObjectId('639afd566bf8070d50c15620'), 'title': 'Casablanca', 'score': '8.5', 'genre': 'Drama', 'date': '1942', 'acteurs': ['Humphrey Bogart', 'Ingrid Bergman', 'Paul Henreid'], 'public': 'PG', 'durée': 102, 'description': 'A cynical expatriate American cafe owner struggles to decide whether or not to help his former lover and her fugitive husband escape the Nazis in French Morocco.', 'pays': ['United States']}\n",
      "{'_id': ObjectId('639afd4f6bf8070d50c1561a'), 'title': 'Once Upon a Time in the West', 'score': '8.5', 'genre': 'Western', 'date': '1968', 'acteurs': ['Henry Fonda', 'Charles Bronson', 'Claudia Cardinale'], 'public': 'PG-13', 'durée': 165, 'description': 'A mysterious stranger with a harmonica joins forces with a notorious desperado to protect a beautiful widow from a ruthless assassin working for the railroad.', 'pays': ['Italy', 'United States']}\n",
      "{'_id': ObjectId('639afd506bf8070d50c1561b'), 'title': 'Modern Times', 'score': '8.5', 'genre': 'Comedy', 'date': '1936', 'acteurs': ['Charles Chaplin', 'Paulette Goddard', 'Henry Bergman'], 'public': 'G', 'durée': 87, 'description': 'The Tramp struggles to live in modern industrial society with the help of a young homeless woman.', 'pays': ['United States']}\n",
      "{'_id': ObjectId('639afd496bf8070d50c15615'), 'title': 'Apocalypse Now', 'score': '8.5', 'genre': 'Drama', 'date': '1979', 'acteurs': ['Martin Sheen', 'Marlon Brando', 'Robert Duvall'], 'public': 'R', 'durée': 147, 'description': 'A U.S. Army officer serving in Vietnam is tasked with assassinating a renegade Special Forces Colonel who sees himself as a god.', 'pays': ['United States']}\n",
      "{'_id': ObjectId('639afd4b6bf8070d50c15617'), 'title': 'Alien', 'score': '8.5', 'genre': 'Horror', 'date': '1979', 'acteurs': ['Sigourney Weaver', 'Tom Skerritt', 'John Hurt'], 'public': 'R', 'durée': 117, 'description': 'The crew of a commercial spacecraft encounter a deadly lifeform after investigating an unknown transmission.', 'pays': ['United Kingdom', 'United States']}\n",
      "{'_id': ObjectId('639afd5f6bf8070d50c15627'), 'title': 'The Lion King', 'score': '8.5', 'genre': 'Animation', 'date': '1994', 'acteurs': ['Matthew Broderick', 'Jeremy Irons', 'James Earl Jones'], 'public': 'G', 'durée': 88, 'description': 'Lion prince Simba and his father are targeted by his bitter uncle, who wants to ascend the throne himself.', 'pays': ['United States']}\n",
      "{'_id': ObjectId('639afd4e6bf8070d50c15619'), 'title': 'Rear Window', 'score': '8.5', 'genre': 'Mystery', 'date': '1954', 'acteurs': ['James Stewart', 'Grace Kelly', 'Wendell Corey'], 'public': 'PG', 'durée': 112, 'description': 'A wheelchair-bound photographer spies on his neighbors from his Greenwich Village courtyard apartment window, and becomes convinced one of them has committed murder, despite the skepticism of his fashion-model girlfriend.', 'pays': ['United States']}\n",
      "{'_id': ObjectId('639afd4c6bf8070d50c15618'), 'title': 'Cinema Paradiso', 'score': '8.5', 'genre': 'Drama', 'date': '1988', 'acteurs': ['Philippe Noiret', 'Enzo Cannavale', 'Antonella Attili'], 'public': 'PG', 'durée': 155, 'description': \"A filmmaker recalls his childhood when falling in love with the pictures at the cinema of his home village and forms a deep friendship with the cinema's projectionist.\", 'pays': ['Italy', 'France']}\n",
      "{'_id': ObjectId('639afd576bf8070d50c15621'), 'title': 'The Prestige', 'score': '8.5', 'genre': 'Drama', 'date': '2006', 'acteurs': ['Christian Bale', 'Hugh Jackman', 'Scarlett Johansson'], 'public': 'PG-13', 'durée': 130, 'description': 'After a tragic accident, two stage magicians in 1890s London engage in a battle to create the ultimate illusion while sacrificing everything they have to outwit each other.', 'pays': ['United Kingdom', 'United States']}\n",
      "{'_id': ObjectId('639afd566bf8070d50c1561f'), 'title': 'Whiplash', 'score': '8.5', 'genre': 'Drama', 'date': '2014', 'acteurs': ['Miles Teller', 'J.K. Simmons', 'Melissa Benoist'], 'public': 'R', 'durée': 106, 'description': \"A promising young drummer enrolls at a cut-throat music conservatory where his dreams of greatness are mentored by an instructor who will stop at nothing to realize a student's potential.\", 'pays': ['United States']}\n",
      "{'_id': ObjectId('639afd646bf8070d50c1562c'), 'title': 'Back to the Future', 'score': '8.5', 'genre': 'Adventure', 'date': '1985', 'acteurs': ['Michael J. Fox', 'Christopher Lloyd', 'Lea Thompson'], 'public': 'PG', 'durée': 116, 'description': 'Marty McFly, a 17-year-old high school student, is accidentally sent 30 years into the past in a time-traveling DeLorean invented by his close friend, the maverick scientist Doc Brown.', 'pays': ['United States']}\n",
      "{'_id': ObjectId('639afd646bf8070d50c1562a'), 'title': 'Psycho', 'score': '8.5', 'genre': 'Horror', 'date': '1960', 'acteurs': ['Anthony Perkins', 'Janet Leigh', 'Vera Miles'], 'public': 'R', 'durée': 109, 'description': \"A Phoenix secretary embezzles $40,000 from her employer's client, goes on the run and checks into a remote motel run by a young man under the domination of his mother.\", 'pays': ['United States']}\n",
      "{'_id': ObjectId('639afd4a6bf8070d50c15616'), 'title': 'City Lights', 'score': '8.5', 'genre': 'Comedy', 'date': '1931', 'acteurs': ['Charles Chaplin', 'Virginia Cherrill', 'Florence Lee'], 'public': 'G', 'durée': 87, 'description': None, 'pays': ['United States']}\n",
      "{'_id': ObjectId('639afd626bf8070d50c15629'), 'title': 'The Pianist', 'score': '8.5', 'genre': 'Biography', 'date': '2002', 'acteurs': ['Adrien Brody', 'Thomas Kretschmann', 'Frank Finlay'], 'public': 'R', 'durée': 150, 'description': 'A Polish Jewish musician struggles to survive the destruction of the Warsaw ghetto of World War II.', 'pays': ['France', 'Poland', 'Germany', 'United Kingdom']}\n",
      "{'_id': ObjectId('639afd5f6bf8070d50c15626'), 'title': 'Léon: The Professional', 'score': '8.5', 'genre': 'Action', 'date': '1994', 'acteurs': ['Jean Reno', 'Gary Oldman', 'Natalie Portman'], 'public': 'R', 'durée': 110, 'description': \"12-year-old Mathilda is reluctantly taken in by Léon, a professional assassin, after her family is murdered. An unusual relationship forms as she becomes his protégée and learns the assassin's trade.\", 'pays': ['France', 'United States']}\n",
      "{'_id': ObjectId('639afd5d6bf8070d50c15625'), 'title': 'Gladiator', 'score': '8.5', 'genre': 'Action', 'date': '2000', 'acteurs': ['Russell Crowe', 'Joaquin Phoenix', 'Connie Nielsen'], 'public': 'R', 'durée': 155, 'description': 'A former Roman General sets out to exact vengeance against the corrupt emperor who murdered his family and sent him into slavery.', 'pays': ['United States', 'United Kingdom', 'Malta', 'Morocco']}\n",
      "{'_id': ObjectId('639afd5b6bf8070d50c15624'), 'title': 'American History X', 'score': '8.5', 'genre': 'Crime', 'date': '1998', 'acteurs': ['Edward Norton', 'Edward Furlong', \"Beverly D'Angelo\"], 'public': 'R', 'durée': 119, 'description': 'A former neo-nazi skinhead tries to prevent his younger brother from going down the same wrong path that he did.', 'pays': ['United States']}\n",
      "{'_id': ObjectId('639afd606bf8070d50c15628'), 'title': 'Parasite', 'score': '8.5', 'genre': 'Drama', 'date': '2019', 'acteurs': ['Song Kang-ho', 'Lee Sun-kyun', 'Cho Yeo-jeong'], 'public': 'R', 'durée': 132, 'description': 'Greed and class discrimination threaten the newly formed symbiotic relationship between the wealthy Park family and the destitute Kim clan.', 'pays': ['South Korea']}\n",
      "{'_id': ObjectId('639afd586bf8070d50c15622'), 'title': 'The Usual Suspects', 'score': '8.5', 'genre': 'Crime', 'date': '1995', 'acteurs': ['Kevin Spacey', 'Gabriel Byrne', 'Chazz Palminteri'], 'public': 'R', 'durée': 106, 'description': 'A sole survivor tells of the twisty events leading up to a horrific gun battle on a boat, which began when five criminals met at a seemingly random police lineup.', 'pays': ['United States', 'Germany', 'Dolby SR']}\n",
      "{'_id': ObjectId('639afd5a6bf8070d50c15623'), 'title': 'The Departed', 'score': '8.5', 'genre': 'Crime', 'date': '2006', 'acteurs': ['Leonardo DiCaprio', 'Matt Damon', 'Jack Nicholson'], 'public': 'R', 'durée': 151, 'description': 'An undercover cop and a mole in the police attempt to identify each other while infiltrating an Irish gang in South Boston.', 'pays': ['United States', 'Hong Kong']}\n",
      "{'_id': ObjectId('639afd3b6bf8070d50c1560a'), 'title': 'Witness for the Prosecution', 'score': '8.4', 'genre': 'Crime', 'date': '1957', 'acteurs': ['Tyrone Power', 'Marlene Dietrich', 'Charles Laughton'], 'public': 'Approved', 'durée': 116, 'description': 'A veteran British barrister must defend his client in a murder trial that has surprise after surprise.', 'pays': ['United States']}\n",
      "{'_id': ObjectId('639afd376bf8070d50c15606'), 'title': 'Dr. Strangelove or: How I Learned to Stop Worrying and Love the Bomb', 'score': '8.4', 'genre': 'Comedy', 'date': '1964', 'acteurs': ['Peter Sellers', 'George C. Scott', 'Sterling Hayden'], 'public': 'PG', 'durée': 95, 'description': 'An insane American general orders a bombing attack on the Soviet Union, triggering a path to nuclear holocaust that a war room full of politicians and generals frantically tries to stop.', 'pays': ['United Kingdom', 'United States']}\n",
      "{'_id': ObjectId('639afd3e6bf8070d50c1560c'), 'title': 'The Great Dictator', 'score': '8.4', 'genre': 'Comedy', 'date': '1940', 'acteurs': ['Charles Chaplin', 'Paulette Goddard', 'Jack Oakie'], 'public': 'G', 'durée': 125, 'description': \"Dictator Adenoid Hynkel tries to expand his empire while a poor Jewish barber tries to avoid persecution from Hynkel's regime.\", 'pays': ['United States']}\n",
      "{'_id': ObjectId('639afd406bf8070d50c1560e'), 'title': 'Paths of Glory', 'score': '8.4', 'genre': 'Drama', 'date': '1957', 'acteurs': ['Kirk Douglas', 'Ralph Meeker', 'Adolphe Menjou'], 'public': 'Approved', 'durée': 88, 'description': 'After refusing to attack an enemy position, a general accuses the soldiers of cowardice and their commanding officer must defend them.', 'pays': ['United States']}\n",
      "{'_id': ObjectId('639afd286bf8070d50c155fc'), 'title': 'Princess Mononoke', 'score': '8.4', 'genre': 'Animation', 'date': '1997', 'acteurs': ['Yôji Matsuda', 'Yuriko Ishida', 'Yûko Tanaka'], 'public': 'PG-13', 'durée': 134, 'description': \"On a journey to find the cure for a Tatarigami's curse, Ashitaka finds himself in the middle of a war between the forest gods and Tatara, a mining colony. In this quest he also meets San, the Mononoke Hime.\", 'pays': ['Japan']}\n",
      "{'_id': ObjectId('639afd056bf8070d50c155e0'), 'title': 'Hamilton', 'score': '8.4', 'genre': 'Biography', 'date': '2020', 'acteurs': ['Lin-Manuel Miranda', 'Phillipa Soo', 'Leslie Odom Jr.'], 'public': 'PG-13', 'durée': 160, 'description': \"The real life of one of America's foremost founding fathers and first Secretary of the Treasury, Alexander Hamilton. Captured live on Broadway from the Richard Rodgers Theater with the original Broadway cast.\", 'pays': ['United States']}\n",
      "{'_id': ObjectId('639afd486bf8070d50c15614'), 'title': 'Memento', 'score': '8.4', 'genre': 'Mystery', 'date': '2000', 'acteurs': ['Guy Pearce', 'Carrie-Anne Moss', 'Joe Pantoliano'], 'public': 'R', 'durée': 113, 'description': \"A man with short-term memory loss attempts to track down his wife's murderer.\", 'pays': ['United States', 'Color']}\n",
      "{'_id': ObjectId('639afd456bf8070d50c15612'), 'title': 'Django Unchained', 'score': '8.4', 'genre': 'Drama', 'date': '2012', 'acteurs': ['Jamie Foxx', 'Christoph Waltz', 'Leonardo DiCaprio'], 'public': 'R', 'durée': 165, 'description': 'With the help of a German bounty-hunter, a freed slave sets out to rescue his wife from a brutal plantation-owner in Mississippi.', 'pays': ['United States']}\n",
      "{'_id': ObjectId('639afd436bf8070d50c15610'), 'title': 'The Lives of Others', 'score': '8.4', 'genre': 'Drama', 'date': '2006', 'acteurs': ['Ulrich Mühe', 'Martina Gedeck', 'Sebastian Koch'], 'public': 'R', 'durée': 137, 'description': None, 'pays': ['Germany', 'France']}\n",
      "{'_id': ObjectId('639afcf36bf8070d50c155d1'), 'title': 'Like Stars on Earth', 'score': '8.4', 'genre': 'Drama', 'date': '2007', 'acteurs': ['Darsheel Safary', 'Aamir Khan', 'Tisca Chopra'], 'public': 'PG', 'durée': 165, 'description': 'An eight-year-old boy is thought to be a lazy trouble-maker, until the new art teacher has the patience and compassion to discover the real problem behind his struggles in school.', 'pays': ['India']}\n",
      "{'_id': ObjectId('639afd3f6bf8070d50c1560d'), 'title': 'The Shining', 'score': '8.4', 'genre': 'Drama', 'date': '1980', 'acteurs': ['Jack Nicholson', 'Shelley Duvall', 'Danny Lloyd'], 'public': 'R', 'durée': 146, 'description': 'A family heads to an isolated hotel for the winter where a sinister presence influences the father into violence, while his psychic son sees horrific forebodings from both past and future.', 'pays': ['United Kingdom', 'United States']}\n",
      "{'_id': ObjectId('639afd3c6bf8070d50c1560b'), 'title': 'Avengers: Infinity War', 'score': '8.4', 'genre': 'Action', 'date': '2018', 'acteurs': ['Robert Downey Jr.', 'Chris Hemsworth', 'Mark Ruffalo'], 'public': 'PG-13', 'durée': 149, 'description': 'The Avengers and their allies must be willing to sacrifice all in an attempt to defeat the powerful Thanos before his blitz of devastation and ruin puts an end to the universe.', 'pays': ['United States', 'IMAX 6-Track', 'Dolby Surround 7.1', 'Dolby Digital', 'Dolby Atmos', 'Sonics-DDP']}\n",
      "{'_id': ObjectId('639afd3a6bf8070d50c15609'), 'title': 'Aliens', 'score': '8.4', 'genre': 'Action', 'date': '1986', 'acteurs': ['Sigourney Weaver', 'Michael Biehn', 'Carrie Henn'], 'public': 'R', 'durée': 137, 'description': 'Fifty-seven years after surviving an apocalyptic attack aboard her space vessel by merciless space creatures, Officer Ripley awakens from hyper-sleep and tries to warn anyone who will listen about the predators.', 'pays': ['United Kingdom', 'United States']}\n",
      "{'_id': ObjectId('639afd376bf8070d50c15607'), 'title': 'American Beauty', 'score': '8.4', 'genre': 'Drama', 'date': '1999', 'acteurs': ['Kevin Spacey', 'Annette Bening', 'Thora Birch'], 'public': 'R', 'durée': 122, 'description': \"A sexually frustrated suburban father has a mid-life crisis after becoming infatuated with his daughter's best friend.\", 'pays': ['United States', 'Color']}\n",
      "{'_id': ObjectId('639afd356bf8070d50c15605'), 'title': 'The Dark Knight Rises', 'score': '8.4', 'genre': 'Action', 'date': '2012', 'acteurs': ['Christian Bale', 'Tom Hardy', 'Anne Hathaway'], 'public': 'PG-13', 'durée': 164, 'description': \"Eight years after the Joker's reign of anarchy, Batman, with the help of the enigmatic Selina Kyle, is forced from his exile to save Gotham City from the brutal guerrilla terrorist Bane.\", 'pays': ['United States', 'United Kingdom']}\n",
      "{'_id': ObjectId('639afd426bf8070d50c1560f'), 'title': 'Sunset Blvd.', 'score': '8.4', 'genre': 'Drama', 'date': '1950', 'acteurs': ['William Holden', 'Gloria Swanson', 'Erich von Stroheim'], 'public': 'Passed', 'durée': 110, 'description': 'A screenwriter develops a dangerous relationship with a faded film star determined to make a triumphant return.', 'pays': ['United States']}\n",
      "{'_id': ObjectId('639afd396bf8070d50c15608'), 'title': 'Spider-Man: Into the Spider-Verse', 'score': '8.4', 'genre': 'Animation', 'date': '2018', 'acteurs': ['Shameik Moore', 'Jake Johnson', 'Hailee Steinfeld'], 'public': 'PG', 'durée': 117, 'description': 'Teen Miles Morales becomes the Spider-Man of his universe, and must join with five spider-powered individuals from other dimensions to stop a threat for all realities.', 'pays': ['United States']}\n",
      "{'_id': ObjectId('639afd2e6bf8070d50c15600'), 'title': 'Coco', 'score': '8.4', 'genre': 'Animation', 'date': '2017', 'acteurs': ['Anthony Gonzalez', 'Gael García Bernal', 'Benjamin Bratt'], 'public': 'PG', 'durée': 105, 'description': \"Aspiring musician Miguel, confronted with his family's ancestral ban on music, enters the Land of the Dead to find his great-great-grandfather, a legendary singer.\", 'pays': ['United States']}\n",
      "{'_id': ObjectId('639afd2a6bf8070d50c155fd'), 'title': 'Avengers: Endgame', 'score': '8.4', 'genre': 'Action', 'date': '2019', 'acteurs': ['Robert Downey Jr.', 'Chris Evans', 'Mark Ruffalo'], 'public': 'PG-13', 'durée': 181, 'description': \"After the devastating events of Avengers: Infinity War (2018), the universe is in ruins. With the help of remaining allies, the Avengers assemble once more in order to reverse Thanos' actions and restore balance to the universe.\", 'pays': ['United States', 'Dolby Atmos', 'Auro 11.1', 'Dolby Surround 7.1', 'Dolby Digital', 'Sonics-DDP', '12-Track Digital Sound', 'IMAX 6-Track']}\n",
      "{'_id': ObjectId('639afd306bf8070d50c15601'), 'title': 'Joker', 'score': '8.4', 'genre': 'Crime', 'date': '2019', 'acteurs': ['Joaquin Phoenix', 'Robert De Niro', 'Zazie Beetz'], 'public': 'R', 'durée': 122, 'description': 'A mentally troubled stand-up comedian embarks on a downward spiral that leads to the creation of an iconic villain.', 'pays': ['United States', 'Canada']}\n",
      "{'_id': ObjectId('639afd2c6bf8070d50c155fe'), 'title': 'Braveheart', 'score': '8.4', 'genre': 'Biography', 'date': '1995', 'acteurs': ['Mel Gibson', 'Sophie Marceau', 'Patrick McGoohan'], 'public': 'R', 'durée': 178, 'description': 'Scottish warrior William Wallace leads his countrymen in a rebellion to free his homeland from the tyranny of King Edward I of England.', 'pays': ['United States']}\n",
      "{'_id': ObjectId('639afd246bf8070d50c155f8'), 'title': 'Top Gun: Maverick', 'score': '8.4', 'genre': 'Action', 'date': '2022', 'acteurs': ['Tom Cruise', 'Jennifer Connelly', 'Miles Teller'], 'public': 'PG-13', 'durée': 130, 'description': \"After thirty years, Maverick is still pushing the envelope as a top naval aviator, but must confront ghosts of his past when he leads TOP GUN's elite graduates on a mission that demands the ultimate sacrifice from those chosen to fly it.\", 'pays': ['United States']}\n",
      "{'_id': ObjectId('639afd336bf8070d50c15603'), 'title': 'Amadeus', 'score': '8.4', 'genre': 'Biography', 'date': '1984', 'acteurs': ['F. Murray Abraham', 'Tom Hulce', 'Elizabeth Berridge'], 'public': 'PG', 'durée': 160, 'description': \"The life, success and troubles of Wolfgang Amadeus Mozart, as told by Antonio Salieri, the contemporaneous composer who was deeply jealous of Mozart's talent and claimed to have murdered him.\", 'pays': ['United States', 'France', 'Italy']}\n",
      "{'_id': ObjectId('639afd256bf8070d50c155f9'), 'title': 'Your Name.', 'score': '8.4', 'genre': 'Animation', 'date': '2016', 'acteurs': ['Ryûnosuke Kamiki', 'Mone Kamishiraishi', 'Ryô Narita'], 'public': 'TV-PG', 'durée': 106, 'description': 'Two strangers find themselves linked in a bizarre way. When a connection forms, will distance be the only thing to keep them apart?', 'pays': ['Japan']}\n",
      "{'_id': ObjectId('639afd216bf8070d50c155f6'), 'title': '3 Idiots', 'score': '8.4', 'genre': 'Comedy', 'date': '2009', 'acteurs': ['Aamir Khan', 'Madhavan', 'Mona Singh'], 'public': 'PG-13', 'durée': 170, 'description': 'Two friends are searching for their long lost companion. They revisit their college days and recall the memories of their friend who inspired them to think differently, even as the rest of the world called them \"idiots\".', 'pays': ['India']}\n",
      "{'_id': ObjectId('639afd446bf8070d50c15611'), 'title': 'WALL·E', 'score': '8.4', 'genre': 'Animation', 'date': '2008', 'acteurs': ['Ben Burtt', 'Elissa Knight', 'Jeff Garlin'], 'public': 'G', 'durée': 98, 'description': 'In the distant future, a small waste-collecting robot inadvertently embarks on a space journey that will ultimately decide the fate of mankind.', 'pays': ['United States']}\n",
      "{'_id': ObjectId('639afd476bf8070d50c15613'), 'title': 'Indiana Jones and the Raiders of the Lost Ark', 'score': '8.4', 'genre': 'Action', 'date': '1981', 'acteurs': ['Harrison Ford', 'Karen Allen', 'Paul Freeman'], 'public': 'PG', 'durée': 115, 'description': 'Archaeology professor Indiana Jones ventures to seize a biblical artefact known as the Ark of the Covenant. While doing so, he puts up a fight against Renee and a troop of Nazis.', 'pays': ['United States']}\n",
      "{'_id': ObjectId('639afd1e6bf8070d50c155f3'), 'title': 'High and Low', 'score': '8.4', 'genre': 'Crime', 'date': '1963', 'acteurs': ['Toshirô Mifune', 'Yutaka Sada', 'Tatsuya Nakadai'], 'public': 'Not Rated', 'durée': 143, 'description': \"An executive of a Yokohama shoe company becomes a victim of extortion when his chauffeur's son is kidnapped by mistake and held for ransom.\", 'pays': ['Japan']}\n",
      "{'_id': ObjectId('639afd1b6bf8070d50c155f1'), 'title': 'Capernaum', 'score': '8.4', 'genre': 'Drama', 'date': '2018', 'acteurs': ['Zain Al Rafeea', 'Yordanos Shiferaw', 'Boluwatife Treasure Bankole'], 'public': 'R', 'durée': 126, 'description': 'While serving a five-year sentence for a violent crime, a 12-year-old boy sues his parents for neglect.', 'pays': ['Lebanon', 'France', 'Cyprus', 'Qatar', 'United Kingdom']}\n",
      "{'_id': ObjectId('639afd166bf8070d50c155ec'), 'title': 'Come and See', 'score': '8.4', 'genre': 'Drama', 'date': '1985', 'acteurs': ['Aleksey Kravchenko', 'Olga Mironova', 'Liubomiras Laucevicius'], 'public': 'Not Rated', 'durée': 142, 'description': 'After finding an old rifle, a young boy joins the Soviet resistance movement against ruthless German forces and experiences the horrors of World War II.', 'pays': ['Soviet Union']}\n",
      "{'_id': ObjectId('639afd346bf8070d50c15604'), 'title': 'Oldboy', 'score': '8.4', 'genre': 'Action', 'date': '2003', 'acteurs': ['Choi Min-sik', 'Yoo Ji-tae', 'Kang Hye-jeong'], 'public': 'R', 'durée': 2, 'description': 'After being kidnapped and imprisoned for fifteen years, Oh Dae-Su is released, only to find that he must find his captor in five days.', 'pays': ['South Korea']}\n",
      "{'_id': ObjectId('639afd0c6bf8070d50c155e5'), 'title': 'A Clockwork Orange', 'score': '8.3', 'genre': 'Crime', 'date': '1971', 'acteurs': ['Malcolm McDowell', 'Patrick Magee', 'Michael Bates'], 'public': 'X', 'durée': 136, 'description': \"In the future, a sadistic gang leader is imprisoned and volunteers for a conduct-aversion experiment, but it doesn't go as planned.\", 'pays': ['United Kingdom', 'United States', 'Color']}\n",
      "{'_id': ObjectId('639afd0d6bf8070d50c155e6'), 'title': 'Amélie', 'score': '8.3', 'genre': 'Comedy', 'date': '2001', 'acteurs': ['Audrey Tautou', 'Mathieu Kassovitz', 'Rufus'], 'public': 'R', 'durée': 122, 'description': 'Amélie is an innocent and naive girl in Paris with her own sense of justice. She decides to help those around her and, along the way, discovers love.', 'pays': ['France', 'Germany', 'Color']}\n",
      "{'_id': ObjectId('639afd0b6bf8070d50c155e4'), 'title': 'The Apartment', 'score': '8.3', 'genre': 'Comedy', 'date': '1960', 'acteurs': ['Jack Lemmon', 'Shirley MacLaine', 'Fred MacMurray'], 'public': 'Approved', 'durée': 125, 'description': 'A Manhattan insurance clerk tries to rise in his company by letting its executives use his apartment for trysts, but complications and a romance of his own ensue.', 'pays': ['United States']}\n",
      "{'_id': ObjectId('639afd0f6bf8070d50c155e7'), 'title': 'Vertigo', 'score': '8.3', 'genre': 'Mystery', 'date': '1958', 'acteurs': ['James Stewart', 'Kim Novak', 'Barbara Bel Geddes'], 'public': 'PG', 'durée': 128, 'description': 'A former San Francisco police detective juggles wrestling with his personal demons and becoming obsessed with the hauntingly beautiful woman he has been hired to trail, who may be deeply disturbed.', 'pays': ['United States']}\n",
      "{'_id': ObjectId('639afd096bf8070d50c155e3'), 'title': 'Ikiru', 'score': '8.3', 'genre': 'Drama', 'date': '1952', 'acteurs': ['Takashi Shimura', 'Nobuo Kaneko', \"Shin'ichi Himori\"], 'public': 'Not Rated', 'durée': 143, 'description': 'A bureaucrat tries to find meaning in his life after he discovers he has terminal cancer.', 'pays': ['Japan']}\n",
      "{'_id': ObjectId('639afd086bf8070d50c155e2'), 'title': 'Double Indemnity', 'score': '8.3', 'genre': 'Crime', 'date': '1944', 'acteurs': ['Fred MacMurray', 'Barbara Stanwyck', 'Edward G. Robinson'], 'public': 'Passed', 'durée': 107, 'description': 'A Los Angeles insurance representative lets an alluring housewife seduce him into a scheme of insurance fraud and murder that arouses the suspicion of his colleague, an insurance investigator.', 'pays': ['United States']}\n",
      "{'_id': ObjectId('639afd046bf8070d50c155df'), 'title': 'Scarface', 'score': '8.3', 'genre': 'Crime', 'date': '1983', 'acteurs': ['Al Pacino', 'Michelle Pfeiffer', 'Steven Bauer'], 'public': 'R', 'durée': 170, 'description': 'In 1980 Miami, a determined Cuban immigrant takes over a drug cartel and succumbs to greed.', 'pays': ['United States']}\n",
      "{'_id': ObjectId('639afd036bf8070d50c155de'), 'title': 'To Kill a Mockingbird', 'score': '8.3', 'genre': 'Crime', 'date': '1962', 'acteurs': ['Gregory Peck', 'John Megna', 'Frank Overton'], 'public': 'Approved', 'durée': 129, 'description': 'Atticus Finch, a widowed lawyer in Depression-era Alabama, defends a black man against an undeserved rape charge, and his children against prejudice.', 'pays': ['United States']}\n",
      "{'_id': ObjectId('639afd106bf8070d50c155e8'), 'title': 'North by Northwest', 'score': '8.3', 'genre': 'Action', 'date': '1959', 'acteurs': ['Cary Grant', 'Eva Marie Saint', 'James Mason'], 'public': 'Approved', 'durée': 136, 'description': 'A New York City advertising executive goes on the run after being mistaken for a government agent by a group of foreign spies, and falls for a woman whose loyalties he begins to doubt.', 'pays': ['United States']}\n",
      "{'_id': ObjectId('639afd066bf8070d50c155e1'), 'title': 'Full Metal Jacket', 'score': '8.3', 'genre': 'Drama', 'date': '1987', 'acteurs': ['Matthew Modine', 'R. Lee Ermey', \"Vincent D'Onofrio\"], 'public': 'R', 'durée': 116, 'description': 'A pragmatic U.S. Marine observes the dehumanizing effects the Vietnam War has on his fellow recruits from their brutal boot camp training to the bloody street fighting in Hue.', 'pays': ['United Kingdom', 'United States']}\n",
      "{'_id': ObjectId('639afd026bf8070d50c155dd'), 'title': 'The Sting', 'score': '8.3', 'genre': 'Comedy', 'date': '1973', 'acteurs': ['Paul Newman', 'Robert Redford', 'Robert Shaw'], 'public': 'PG', 'durée': 129, 'description': 'Two grifters team up to pull off the ultimate con.', 'pays': ['United States']}\n",
      "{'_id': ObjectId('639afcff6bf8070d50c155da'), 'title': 'Heat', 'score': '8.3', 'genre': 'Action', 'date': '1995', 'acteurs': ['Al Pacino', 'Robert De Niro', 'Val Kilmer'], 'public': 'R', 'durée': 170, 'description': 'A group of high-end professional thieves start to feel the heat from the LAPD when they unknowingly leave a clue at their latest heist.', 'pays': ['United States']}\n",
      "{'_id': ObjectId('639afcfb6bf8070d50c155d7'), 'title': 'Metropolis', 'score': '8.3', 'genre': 'Drama', 'date': '1927', 'acteurs': ['Brigitte Helm', 'Alfred Abel', 'Gustav Fröhlich'], 'public': 'Not Rated', 'durée': 153, 'description': \"In a futuristic city sharply divided between the working class and the city planners, the son of the city's mastermind falls in love with a working-class prophet who predicts the coming of a savior to mediate their differences.\", 'pays': ['Germany']}\n",
      "{'_id': ObjectId('639afd006bf8070d50c155db'), 'title': 'Up', 'score': '8.3', 'genre': 'Animation', 'date': '2009', 'acteurs': ['Edward Asner', 'Jordan Nagai', 'John Ratzenberger'], 'public': 'PG', 'durée': 96, 'description': '78-year-old Carl Fredricksen travels to Paradise Falls in his house equipped with balloons, inadvertently taking a young stowaway.', 'pays': ['United States']}\n",
      "{'_id': ObjectId('639afcfb6bf8070d50c155d8'), 'title': 'A Separation', 'score': '8.3', 'genre': 'Drama', 'date': '2011', 'acteurs': ['Payman Maadi', 'Leila Hatami', 'Sareh Bayat'], 'public': 'PG-13', 'durée': 123, 'description': \"A married couple are faced with a difficult decision - to improve the life of their child by moving to another country or to stay in Iran and look after a deteriorating parent who has Alzheimer's disease.\", 'pays': ['Iran', 'France', 'Australia']}\n"
     ]
    }
   ],
   "source": [
    "cent_meilleurs_films = db.movies.find().sort([('score', pymongo.DESCENDING)]).limit(100)\n",
    "for film in cent_meilleurs_films:\n",
    "    (print(film))\n"
   ]
  },
  {
   "cell_type": "code",
   "execution_count": 50,
   "metadata": {},
   "outputs": [
    {
     "name": "stdout",
     "output_type": "stream",
     "text": [
      "{'United States': 75}\n"
     ]
    }
   ],
   "source": [
    "pourcentage_film_americain= collection.aggregate([\n",
    "    {\n",
    "        \"$sort\": { \"score\":-1}       \n",
    "    },\n",
    "    {\n",
    "        \"$limit\": 100\n",
    "    },\n",
    "    {\n",
    "        \"$match\":({\"pays\":\"United States\"})\n",
    "    },\n",
    "    {\n",
    "        \"$count\" : \"United States\"\n",
    "    }\n",
    "    \n",
    "])\n",
    "\n",
    "for i in pourcentage_film_americain:\n",
    "    print(i)\n"
   ]
  },
  {
   "cell_type": "code",
   "execution_count": 51,
   "metadata": {},
   "outputs": [],
   "source": [
    "for film in cent_meilleurs_films:\n",
    "    (print(film))"
   ]
  },
  {
   "cell_type": "code",
   "execution_count": null,
   "metadata": {},
   "outputs": [],
   "source": []
  },
  {
   "cell_type": "markdown",
   "metadata": {},
   "source": [
    "# 6) Quel est la durée moyenne d’un film en fonction du genre ?"
   ]
  },
  {
   "cell_type": "code",
   "execution_count": 52,
   "metadata": {},
   "outputs": [],
   "source": [
    "pipe = [\n",
    "    {\n",
    "        '$group': {\n",
    "            '_id': \"$genre\",\n",
    "            'mean': {\"$avg\": \"$durée\"}\n",
    "        }\n",
    "    }\n",
    "]"
   ]
  },
  {
   "cell_type": "code",
   "execution_count": 53,
   "metadata": {},
   "outputs": [
    {
     "data": {
      "text/plain": [
       "[{'_id': 'Horror', 'mean': 114.25},\n",
       " {'_id': 'Biography', 'mean': 136.69565217391303},\n",
       " {'_id': 'Crime', 'mean': 132.6},\n",
       " {'_id': 'Comedy', 'mean': 111.43478260869566},\n",
       " {'_id': 'Film-Noir', 'mean': 93.0},\n",
       " {'_id': 'Animation', 'mean': 100.95652173913044},\n",
       " {'_id': 'Western', 'mean': 148.5},\n",
       " {'_id': 'Drama', 'mean': 125.38805970149254},\n",
       " {'_id': 'Adventure', 'mean': 142.38095238095238},\n",
       " {'_id': 'Mystery', 'mean': 122.75},\n",
       " {'_id': 'Action', 'mean': 131.3913043478261}]"
      ]
     },
     "execution_count": 53,
     "metadata": {},
     "output_type": "execute_result"
    }
   ],
   "source": [
    "list_a = []\n",
    "for movie in db.movies.aggregate(pipe):\n",
    "    list_a.append(movie)\n",
    "\n",
    "list_a"
   ]
  },
  {
   "cell_type": "code",
   "execution_count": 54,
   "metadata": {},
   "outputs": [],
   "source": [
    "durée_moy = db.movies.aggregate([{\"$group\": {\"_id\": \"$Genre\",\"duree\": { \"$avg\": \"$duree\" }}}])"
   ]
  }
 ],
 "metadata": {
  "kernelspec": {
   "display_name": "Python 3.10.8 ('data_analyse_env')",
   "language": "python",
   "name": "python3"
  },
  "language_info": {
   "codemirror_mode": {
    "name": "ipython",
    "version": 3
   },
   "file_extension": ".py",
   "mimetype": "text/x-python",
   "name": "python",
   "nbconvert_exporter": "python",
   "pygments_lexer": "ipython3",
   "version": "3.10.8"
  },
  "orig_nbformat": 4,
  "vscode": {
   "interpreter": {
    "hash": "862f65da1f1a1c9ffeaa84a377fc90b92a29c7d7c457330afb30e22c0920c9dd"
   }
  }
 },
 "nbformat": 4,
 "nbformat_minor": 2
}
